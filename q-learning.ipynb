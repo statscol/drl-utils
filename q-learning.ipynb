{
 "cells": [
  {
   "cell_type": "markdown",
   "id": "22e51f4e-7bd7-415f-a039-504af59f0ff9",
   "metadata": {},
   "source": [
    "## Q-Learning"
   ]
  },
  {
   "cell_type": "code",
   "execution_count": 1,
   "id": "b9c738ef-3b0f-417d-8375-a4d99f2d7acb",
   "metadata": {},
   "outputs": [
    {
     "name": "stdout",
     "output_type": "stream",
     "text": [
      "Collecting pygame\n",
      "  Downloading pygame-2.1.2-cp38-cp38-manylinux_2_17_x86_64.manylinux2014_x86_64.whl (21.8 MB)\n",
      "\u001b[K     |████████████████████████████████| 21.8 MB 17.5 MB/s eta 0:00:01\n",
      "\u001b[?25hCollecting gym[atari]==0.19.0\n",
      "  Downloading gym-0.19.0.tar.gz (1.6 MB)\n",
      "\u001b[K     |████████████████████████████████| 1.6 MB 44.7 MB/s eta 0:00:01\n",
      "\u001b[?25hRequirement already satisfied: numpy in /usr/local/lib/python3.8/dist-packages (1.19.5)\n",
      "Requirement already satisfied: cloudpickle<1.7.0,>=1.2.0 in /usr/local/lib/python3.8/dist-packages (from gym[atari]==0.19.0) (1.6.0)\n",
      "Collecting atari-py==0.2.6\n",
      "  Downloading atari-py-0.2.6.tar.gz (790 kB)\n",
      "\u001b[K     |████████████████████████████████| 790 kB 98.2 MB/s eta 0:00:01\n",
      "\u001b[?25hCollecting opencv-python>=3.\n",
      "  Downloading opencv_python-4.6.0.66-cp36-abi3-manylinux_2_17_x86_64.manylinux2014_x86_64.whl (60.9 MB)\n",
      "\u001b[K     |████████████████████████████████| 60.9 MB 36.2 MB/s eta 0:00:01\n",
      "\u001b[?25hRequirement already satisfied: six in /usr/local/lib/python3.8/dist-packages (from atari-py==0.2.6->gym[atari]==0.19.0) (1.15.0)\n",
      "\u001b[33mWARNING: The candidate selected for download or install is a yanked version: 'atari-py' candidate (version 0.2.6 at https://files.pythonhosted.org/packages/43/dd/2721f34a89dc520d2e09363fd23d110a33bbab2399e50fdced6eb2ed2157/atari-py-0.2.6.tar.gz#sha256=6249ad5079b0489e87eb44e65485bb1b07cc1b5af729f1ee52ece749503ceb1d (from https://pypi.org/simple/atari-py/))\n",
      "Reason for being yanked: re-release with new wheels\u001b[0m\n",
      "Building wheels for collected packages: gym, atari-py\n",
      "  Building wheel for gym (setup.py) ... \u001b[?25ldone\n",
      "\u001b[?25h  Created wheel for gym: filename=gym-0.19.0-py3-none-any.whl size=1663120 sha256=10747621cf138fa6e69acf17953c5c5b37b375502a1b695131f3d03c62bbcb84\n",
      "  Stored in directory: /root/.cache/pip/wheels/11/36/28/628f4dd3779e4037a6fca1aaed76827ffa4315c3ab6bfadcf6\n",
      "  Building wheel for atari-py (setup.py) ... \u001b[?25ldone\n",
      "\u001b[?25h  Created wheel for atari-py: filename=atari_py-0.2.6-cp38-cp38-linux_x86_64.whl size=3116258 sha256=96b6c2e879be6dcf97cb6b6f12fa28d4547f732dbd4cb9321dd1169a4b025769\n",
      "  Stored in directory: /root/.cache/pip/wheels/7f/5e/27/2e90b9887063d82ee2f9f8b2f8db76bb2290aa281dc40449c8\n",
      "Successfully built gym atari-py\n",
      "Installing collected packages: opencv-python, gym, atari-py, pygame\n",
      "Successfully installed atari-py-0.2.6 gym-0.19.0 opencv-python-4.6.0.66 pygame-2.1.2\n",
      "\u001b[33mWARNING: Running pip as root will break packages and permissions. You should install packages reliably by using venv: https://pip.pypa.io/warnings/venv\u001b[0m\n",
      "\u001b[33mWARNING: You are using pip version 21.1.2; however, version 22.2.2 is available.\n",
      "You should consider upgrading via the '/usr/bin/python3 -m pip install --upgrade pip' command.\u001b[0m\n"
     ]
    }
   ],
   "source": [
    "#!pip install pygame gym[atari]==0.19.0 numpy "
   ]
  },
  {
   "cell_type": "code",
   "execution_count": 1,
   "id": "5ea9f13d-d798-4ceb-ae72-fd60397d493c",
   "metadata": {},
   "outputs": [],
   "source": [
    "requirements=\"\"\"\n",
    "                pygame\n",
    "                gym==0.19.0\n",
    "                numpy\n",
    "            \"\"\""
   ]
  },
  {
   "cell_type": "markdown",
   "id": "3a431fbc-bd7a-4a8b-b569-35d11cd71b7c",
   "metadata": {},
   "source": [
    "## Defining Environment"
   ]
  },
  {
   "cell_type": "code",
   "execution_count": 1,
   "id": "fcdab860-e8e1-47f8-95a3-d32ef246cf14",
   "metadata": {},
   "outputs": [],
   "source": [
    "import gym\n",
    "#env = gym.make(\"FrozenLake-v1\")\n",
    "\n",
    "from gym.envs.registration import register\n",
    "register(\n",
    "    id='FrozenLakeNotSlippery-v0',\n",
    "    entry_point='gym.envs.toy_text:FrozenLakeEnv',\n",
    "    kwargs={'map_name' : '4x4', 'is_slippery': False},\n",
    ")\n",
    "\n",
    "env = gym.make('FrozenLakeNotSlippery-v0')"
   ]
  },
  {
   "cell_type": "code",
   "execution_count": 2,
   "id": "dbb78a5d-190f-46f7-8c08-e4eae5e15463",
   "metadata": {},
   "outputs": [
    {
     "data": {
      "text/plain": [
       "0"
      ]
     },
     "execution_count": 2,
     "metadata": {},
     "output_type": "execute_result"
    }
   ],
   "source": [
    "env.reset()"
   ]
  },
  {
   "cell_type": "markdown",
   "id": "ed2f7beb-8785-43a8-b64e-63ccc6eea098",
   "metadata": {},
   "source": [
    "### Random Play"
   ]
  },
  {
   "cell_type": "code",
   "execution_count": 3,
   "id": "815ca200-4469-41fa-91e5-e7c8568a9bd6",
   "metadata": {},
   "outputs": [],
   "source": [
    "import numpy as np\n",
    "def play_lake(n_games,win_ratio_eval=10):\n",
    "    scores=[]\n",
    "    win_ratios=[]\n",
    "    for game in range(n_games):\n",
    "        env.reset()\n",
    "        game_over=False\n",
    "        score=0\n",
    "        while not game_over:\n",
    "            action=env.action_space.sample() ##random action\n",
    "            observation, reward, game_over, info = env.step(action)\n",
    "            score+=reward\n",
    "            \n",
    "        scores.append(score)\n",
    "    \n",
    "        if game%win_ratio_eval==0:\n",
    "            win_ratios.append(np.mean(scores[-win_ratio_eval:]))\n",
    "        \n",
    "    return win_ratios\n",
    "            \n",
    "            \n",
    "    \n",
    "plays=play_lake(1000)"
   ]
  },
  {
   "cell_type": "code",
   "execution_count": 4,
   "id": "8c0fc1d8-15b2-4327-b291-97b30b332db0",
   "metadata": {},
   "outputs": [
    {
     "data": {
      "image/png": "[encoded data removed]",
      "text/plain": [
       "<Figure size 432x288 with 1 Axes>"
      ]
     },
     "metadata": {
      "needs_background": "light"
     },
     "output_type": "display_data"
    }
   ],
   "source": [
    "import matplotlib.pyplot as plt\n",
    "\n",
    "g=plt.plot(plays)\n",
    "plt.show()"
   ]
  },
  {
   "cell_type": "markdown",
   "id": "e2359c1e-5c91-447d-a423-a19e8d9d86ab",
   "metadata": {},
   "source": [
    "### Now implement Q-learning  \n",
    "![img](./images/Q-learning.png)"
   ]
  },
  {
   "cell_type": "markdown",
   "id": "0c98eece-d257-4552-8975-944eb787f265",
   "metadata": {},
   "source": [
    "Define Agent"
   ]
  },
  {
   "cell_type": "code",
   "execution_count": 5,
   "id": "372f8b2f-e495-4480-905d-318887431d39",
   "metadata": {},
   "outputs": [],
   "source": [
    "from dataclasses import dataclass\n",
    "import numpy as np\n",
    "\n",
    "##Course implementation\n",
    "\n",
    "@dataclass\n",
    "class Agent():\n",
    "    lr:float=0.5\n",
    "    gamma:float=0.95\n",
    "    n_actions:int=4\n",
    "    n_states:int=16\n",
    "    epsilon:float=0.5\n",
    "    eps_dec:float=0.9999995\n",
    "    eps_min:float=0.01\n",
    "    Q={}\n",
    "    \n",
    "    def init_Q(self):\n",
    "        for state in range(self.n_states):\n",
    "            for action in range(self.n_actions):\n",
    "                self.Q[(state,action)]=0.0\n",
    "                \n",
    "    def __post_init__(self):\n",
    "        self.init_Q()\n",
    "\n",
    "    def random_action(self):\n",
    "        return np.random.choice([i for i in range(self.n_actions)])\n",
    "    \n",
    "        \n",
    "    def choose_action(self,state):\n",
    "        if np.random.random() < self.epsilon:\n",
    "            action=self.random_action()\n",
    "        else:\n",
    "            actions=np.array([self.Q[(state,a)] for a in range(self.n_actions)])\n",
    "            action=np.argmax(actions)\n",
    "        return action\n",
    "    \n",
    "    ## if using only greedy algorithm\n",
    "    def choose_action_greedy(self,state):\n",
    "        actions=np.array([self.Q[(state,a)] for a in range(self.n_actions)])\n",
    "        if np.max(actions)>0:\n",
    "            return np.argmax(actions)\n",
    "        else:\n",
    "            return self.random_action()\n",
    "    \n",
    "    def decrease_epsilon(self):\n",
    "        self.epsilon=max(self.epsilon*self.eps_dec,self.eps_min)\n",
    "        \n",
    "    def learn(self,state,action,reward,state_):\n",
    "        actions= np.array([self.Q[(state_,a)] for a in range(self.n_actions)])\n",
    "        a_max=np.argmax(actions)\n",
    "        self.Q[(state,action)]=self.Q[(state,action)] + self.lr*(reward+self.gamma*self.Q[(state_,a_max)]-self.Q[(state,action)])\n",
    "        self.decrease_epsilon()"
   ]
  },
  {
   "cell_type": "code",
   "execution_count": 16,
   "id": "e785245c-478f-45f9-9d68-0783c1316345",
   "metadata": {},
   "outputs": [],
   "source": [
    "## the same but using numpy for Q\n",
    "\n",
    "import numpy as np\n",
    "\n",
    "@dataclass\n",
    "class Agent():\n",
    "    lr:float=0.5\n",
    "    gamma:float=0.95\n",
    "    n_actions:int=4\n",
    "    n_states:int=16\n",
    "    epsilon:float=0.5\n",
    "    eps_dec:float=0.9999995\n",
    "    eps_min:float=0.01\n",
    "    Q={}\n",
    "    \n",
    "    def init_Q(self):\n",
    "        self.Q = np.zeros((self.n_states, self.n_actions))\n",
    "                \n",
    "    def __post_init__(self):\n",
    "        self.init_Q()\n",
    "\n",
    "    def random_action(self):\n",
    "        return np.random.choice([i for i in range(self.n_actions)])\n",
    "    \n",
    "        \n",
    "    def choose_action(self,state):\n",
    "        if np.random.random() < self.epsilon:\n",
    "            action=self.random_action()\n",
    "        else:\n",
    "            actions=self.Q[state]\n",
    "            action=np.argmax(actions)\n",
    "        return action\n",
    "    \n",
    "    ## if using only greedy algorithm\n",
    "    def choose_action_greedy(self,state):\n",
    "        actions=self.Q[state]\n",
    "        if np.max(actions)>0:\n",
    "            return np.argmax(actions)\n",
    "        else:\n",
    "            return self.random_action()\n",
    "    \n",
    "    def decrease_epsilon(self):\n",
    "        self.epsilon=max(self.epsilon*self.eps_dec,self.eps_min)\n",
    "        \n",
    "    def learn(self,state,action,reward,state_):\n",
    "        actions=self.Q[state_]\n",
    "        a_max=np.argmax(actions)\n",
    "        self.Q[state,action]=self.Q[state,action]+self.lr*(reward+self.gamma*np.max(actions)-self.Q[state,action])\n",
    "        self.decrease_epsilon()"
   ]
  },
  {
   "cell_type": "code",
   "execution_count": 35,
   "id": "46421da5-c7b8-46db-b45d-1c8849e40140",
   "metadata": {},
   "outputs": [],
   "source": [
    "## method to play n_games given an agent\n",
    "agent_lake=Agent(lr=0.001,gamma=0.90,n_actions=4,n_states=16,epsilon=1.0)\n",
    "\n",
    "def play_lake(env_game,agent,n_games,win_ratio_eval=100,eval_learning_steps=1000):\n",
    "    scores=[]\n",
    "    win_ratios=[]\n",
    "    for game in range(n_games):\n",
    "        state=env_game.reset()\n",
    "        game_over=False\n",
    "        score=0\n",
    "        while not game_over:\n",
    "            #action=agent.choose_action(state)\n",
    "            action=agent.choose_action_greedy(state)\n",
    "            new_state, reward, game_over, info = env_game.step(action)\n",
    "            agent.learn(state,action,reward,new_state)\n",
    "            score+=reward\n",
    "            state=new_state\n",
    "            \n",
    "        scores.append(score)\n",
    "        if game%win_ratio_eval==0:\n",
    "            win_rt=np.mean(scores[-win_ratio_eval:])\n",
    "            win_ratios.append(win_rt)\n",
    "            if game % eval_learning_steps==0:\n",
    "                print(f\"Episode {game} | Win Percentage {win_rt:.3%} | Epsilon {agent.epsilon:.3f}\")\n",
    "    return win_ratios,scores"
   ]
  },
  {
   "cell_type": "code",
   "execution_count": 18,
   "id": "64f4d301-ba8b-40ce-b129-a7f341cd0e9d",
   "metadata": {},
   "outputs": [
    {
     "name": "stdout",
     "output_type": "stream",
     "text": [
      "Q matrix before training\n"
     ]
    },
    {
     "data": {
      "text/plain": [
       "array([[0., 0., 0., 0.],\n",
       "       [0., 0., 0., 0.],\n",
       "       [0., 0., 0., 0.],\n",
       "       [0., 0., 0., 0.],\n",
       "       [0., 0., 0., 0.],\n",
       "       [0., 0., 0., 0.],\n",
       "       [0., 0., 0., 0.],\n",
       "       [0., 0., 0., 0.],\n",
       "       [0., 0., 0., 0.],\n",
       "       [0., 0., 0., 0.],\n",
       "       [0., 0., 0., 0.],\n",
       "       [0., 0., 0., 0.],\n",
       "       [0., 0., 0., 0.],\n",
       "       [0., 0., 0., 0.],\n",
       "       [0., 0., 0., 0.],\n",
       "       [0., 0., 0., 0.]])"
      ]
     },
     "execution_count": 18,
     "metadata": {},
     "output_type": "execute_result"
    }
   ],
   "source": [
    "print(\"Q matrix before training\")\n",
    "agent_lake.Q"
   ]
  },
  {
   "cell_type": "code",
   "execution_count": 36,
   "id": "68675de1-f19b-414c-8e9f-226cbec7277e",
   "metadata": {},
   "outputs": [
    {
     "name": "stdout",
     "output_type": "stream",
     "text": [
      "Episode 0 | Win Percentage 0.000% | Epsilon 1.000\n",
      "Episode 100 | Win Percentage 100.000% | Epsilon 1.000\n",
      "Episode 200 | Win Percentage 100.000% | Epsilon 0.999\n",
      "Episode 300 | Win Percentage 100.000% | Epsilon 0.999\n",
      "Episode 400 | Win Percentage 100.000% | Epsilon 0.999\n",
      "Episode 500 | Win Percentage 100.000% | Epsilon 0.998\n",
      "Episode 600 | Win Percentage 100.000% | Epsilon 0.998\n",
      "Episode 700 | Win Percentage 100.000% | Epsilon 0.998\n",
      "Episode 800 | Win Percentage 100.000% | Epsilon 0.998\n",
      "Episode 900 | Win Percentage 100.000% | Epsilon 0.997\n"
     ]
    }
   ],
   "source": [
    "N_GAMES=1000\n",
    "results=play_lake(env,agent_lake,N_GAMES,10,100)"
   ]
  },
  {
   "cell_type": "code",
   "execution_count": 22,
   "id": "7ff08139-7fe0-4239-83e1-738bd2020e7e",
   "metadata": {},
   "outputs": [
    {
     "name": "stdout",
     "output_type": "stream",
     "text": [
      "Q matrix After training\n"
     ]
    },
    {
     "data": {
      "text/plain": [
       "array([[0.00000000e+00, 2.14857611e-04, 0.00000000e+00, 0.00000000e+00],\n",
       "       [0.00000000e+00, 0.00000000e+00, 0.00000000e+00, 0.00000000e+00],\n",
       "       [0.00000000e+00, 2.18554200e-12, 0.00000000e+00, 0.00000000e+00],\n",
       "       [0.00000000e+00, 0.00000000e+00, 0.00000000e+00, 0.00000000e+00],\n",
       "       [0.00000000e+00, 1.61559340e-03, 0.00000000e+00, 0.00000000e+00],\n",
       "       [0.00000000e+00, 0.00000000e+00, 0.00000000e+00, 0.00000000e+00],\n",
       "       [0.00000000e+00, 1.05097638e-08, 0.00000000e+00, 0.00000000e+00],\n",
       "       [0.00000000e+00, 0.00000000e+00, 0.00000000e+00, 0.00000000e+00],\n",
       "       [0.00000000e+00, 0.00000000e+00, 1.02109538e-02, 0.00000000e+00],\n",
       "       [0.00000000e+00, 0.00000000e+00, 5.24526355e-02, 0.00000000e+00],\n",
       "       [0.00000000e+00, 2.08705709e-01, 0.00000000e+00, 0.00000000e+00],\n",
       "       [0.00000000e+00, 0.00000000e+00, 0.00000000e+00, 0.00000000e+00],\n",
       "       [0.00000000e+00, 0.00000000e+00, 0.00000000e+00, 0.00000000e+00],\n",
       "       [0.00000000e+00, 0.00000000e+00, 0.00000000e+00, 0.00000000e+00],\n",
       "       [0.00000000e+00, 0.00000000e+00, 5.98463285e-01, 0.00000000e+00],\n",
       "       [0.00000000e+00, 0.00000000e+00, 0.00000000e+00, 0.00000000e+00]])"
      ]
     },
     "execution_count": 22,
     "metadata": {},
     "output_type": "execute_result"
    }
   ],
   "source": [
    "print(\"Q matrix After training\")\n",
    "agent_lake.Q"
   ]
  },
  {
   "cell_type": "code",
   "execution_count": 33,
   "id": "f32b34b5-07e4-46a1-9e76-1d00c76dd03e",
   "metadata": {},
   "outputs": [
    {
     "data": {
      "image/png": "[encoded data removed]",
      "text/plain": [
       "<Figure size 432x288 with 1 Axes>"
      ]
     },
     "metadata": {
      "needs_background": "light"
     },
     "output_type": "display_data"
    }
   ],
   "source": [
    "f,ax=plt.subplots();\n",
    "ax=plt.plot(results[0])\n",
    "f.suptitle('Win Percentage', fontsize=12);"
   ]
  },
  {
   "cell_type": "markdown",
   "id": "885c4369-b2fa-41db-a064-8353e7b6db11",
   "metadata": {},
   "source": [
    "## What if we add slippery to the game? This adds some randomness to the movement"
   ]
  },
  {
   "cell_type": "code",
   "execution_count": 11,
   "id": "fd6be342-777f-4ceb-8b69-76e68d403ce0",
   "metadata": {},
   "outputs": [],
   "source": [
    "env_slip=gym.make(\"FrozenLake-v1\")"
   ]
  },
  {
   "cell_type": "code",
   "execution_count": 37,
   "id": "099ea0a3-aaeb-43f5-a035-135111db7528",
   "metadata": {},
   "outputs": [
    {
     "name": "stdout",
     "output_type": "stream",
     "text": [
      "Episode 0 | Win Percentage 0.000% | Epsilon 1.000\n",
      "Episode 1000 | Win Percentage 0.000% | Epsilon 0.996\n",
      "Episode 2000 | Win Percentage 10.000% | Epsilon 0.991\n",
      "Episode 3000 | Win Percentage 0.000% | Epsilon 0.987\n",
      "Episode 4000 | Win Percentage 0.000% | Epsilon 0.983\n",
      "Episode 5000 | Win Percentage 0.000% | Epsilon 0.978\n",
      "Episode 6000 | Win Percentage 10.000% | Epsilon 0.974\n",
      "Episode 7000 | Win Percentage 0.000% | Epsilon 0.970\n",
      "Episode 8000 | Win Percentage 10.000% | Epsilon 0.965\n",
      "Episode 9000 | Win Percentage 10.000% | Epsilon 0.961\n",
      "Episode 10000 | Win Percentage 0.000% | Epsilon 0.957\n",
      "Episode 11000 | Win Percentage 0.000% | Epsilon 0.952\n",
      "Episode 12000 | Win Percentage 10.000% | Epsilon 0.948\n",
      "Episode 13000 | Win Percentage 10.000% | Epsilon 0.944\n",
      "Episode 14000 | Win Percentage 10.000% | Epsilon 0.940\n",
      "Episode 15000 | Win Percentage 0.000% | Epsilon 0.936\n",
      "Episode 16000 | Win Percentage 0.000% | Epsilon 0.932\n",
      "Episode 17000 | Win Percentage 10.000% | Epsilon 0.928\n",
      "Episode 18000 | Win Percentage 10.000% | Epsilon 0.924\n",
      "Episode 19000 | Win Percentage 10.000% | Epsilon 0.920\n",
      "Episode 20000 | Win Percentage 0.000% | Epsilon 0.916\n",
      "Episode 21000 | Win Percentage 10.000% | Epsilon 0.912\n",
      "Episode 22000 | Win Percentage 0.000% | Epsilon 0.908\n",
      "Episode 23000 | Win Percentage 0.000% | Epsilon 0.904\n",
      "Episode 24000 | Win Percentage 0.000% | Epsilon 0.900\n",
      "Episode 25000 | Win Percentage 0.000% | Epsilon 0.896\n",
      "Episode 26000 | Win Percentage 0.000% | Epsilon 0.892\n",
      "Episode 27000 | Win Percentage 0.000% | Epsilon 0.888\n",
      "Episode 28000 | Win Percentage 0.000% | Epsilon 0.885\n",
      "Episode 29000 | Win Percentage 10.000% | Epsilon 0.881\n",
      "Episode 30000 | Win Percentage 0.000% | Epsilon 0.877\n",
      "Episode 31000 | Win Percentage 0.000% | Epsilon 0.873\n",
      "Episode 32000 | Win Percentage 10.000% | Epsilon 0.869\n",
      "Episode 33000 | Win Percentage 0.000% | Epsilon 0.865\n",
      "Episode 34000 | Win Percentage 0.000% | Epsilon 0.862\n",
      "Episode 35000 | Win Percentage 10.000% | Epsilon 0.858\n",
      "Episode 36000 | Win Percentage 10.000% | Epsilon 0.854\n",
      "Episode 37000 | Win Percentage 0.000% | Epsilon 0.850\n",
      "Episode 38000 | Win Percentage 0.000% | Epsilon 0.847\n",
      "Episode 39000 | Win Percentage 0.000% | Epsilon 0.843\n",
      "Episode 40000 | Win Percentage 0.000% | Epsilon 0.839\n",
      "Episode 41000 | Win Percentage 10.000% | Epsilon 0.836\n",
      "Episode 42000 | Win Percentage 0.000% | Epsilon 0.832\n",
      "Episode 43000 | Win Percentage 0.000% | Epsilon 0.828\n",
      "Episode 44000 | Win Percentage 0.000% | Epsilon 0.825\n",
      "Episode 45000 | Win Percentage 0.000% | Epsilon 0.821\n",
      "Episode 46000 | Win Percentage 10.000% | Epsilon 0.818\n",
      "Episode 47000 | Win Percentage 0.000% | Epsilon 0.814\n",
      "Episode 48000 | Win Percentage 0.000% | Epsilon 0.811\n",
      "Episode 49000 | Win Percentage 0.000% | Epsilon 0.807\n",
      "Episode 50000 | Win Percentage 10.000% | Epsilon 0.803\n",
      "Episode 51000 | Win Percentage 0.000% | Epsilon 0.800\n",
      "Episode 52000 | Win Percentage 0.000% | Epsilon 0.796\n",
      "Episode 53000 | Win Percentage 0.000% | Epsilon 0.793\n",
      "Episode 54000 | Win Percentage 0.000% | Epsilon 0.789\n",
      "Episode 55000 | Win Percentage 0.000% | Epsilon 0.786\n",
      "Episode 56000 | Win Percentage 0.000% | Epsilon 0.782\n",
      "Episode 57000 | Win Percentage 0.000% | Epsilon 0.779\n",
      "Episode 58000 | Win Percentage 10.000% | Epsilon 0.776\n",
      "Episode 59000 | Win Percentage 0.000% | Epsilon 0.772\n",
      "Episode 60000 | Win Percentage 0.000% | Epsilon 0.769\n",
      "Episode 61000 | Win Percentage 0.000% | Epsilon 0.766\n",
      "Episode 62000 | Win Percentage 0.000% | Epsilon 0.762\n",
      "Episode 63000 | Win Percentage 0.000% | Epsilon 0.759\n",
      "Episode 64000 | Win Percentage 10.000% | Epsilon 0.756\n",
      "Episode 65000 | Win Percentage 10.000% | Epsilon 0.752\n",
      "Episode 66000 | Win Percentage 0.000% | Epsilon 0.749\n",
      "Episode 67000 | Win Percentage 0.000% | Epsilon 0.746\n",
      "Episode 68000 | Win Percentage 10.000% | Epsilon 0.742\n",
      "Episode 69000 | Win Percentage 10.000% | Epsilon 0.739\n",
      "Episode 70000 | Win Percentage 0.000% | Epsilon 0.736\n",
      "Episode 71000 | Win Percentage 0.000% | Epsilon 0.733\n",
      "Episode 72000 | Win Percentage 0.000% | Epsilon 0.729\n",
      "Episode 73000 | Win Percentage 0.000% | Epsilon 0.726\n",
      "Episode 74000 | Win Percentage 0.000% | Epsilon 0.723\n",
      "Episode 75000 | Win Percentage 0.000% | Epsilon 0.720\n",
      "Episode 76000 | Win Percentage 0.000% | Epsilon 0.717\n",
      "Episode 77000 | Win Percentage 0.000% | Epsilon 0.713\n",
      "Episode 78000 | Win Percentage 0.000% | Epsilon 0.710\n",
      "Episode 79000 | Win Percentage 0.000% | Epsilon 0.707\n",
      "Episode 80000 | Win Percentage 0.000% | Epsilon 0.704\n",
      "Episode 81000 | Win Percentage 0.000% | Epsilon 0.701\n",
      "Episode 82000 | Win Percentage 0.000% | Epsilon 0.698\n",
      "Episode 83000 | Win Percentage 0.000% | Epsilon 0.695\n",
      "Episode 84000 | Win Percentage 0.000% | Epsilon 0.692\n",
      "Episode 85000 | Win Percentage 0.000% | Epsilon 0.689\n",
      "Episode 86000 | Win Percentage 0.000% | Epsilon 0.686\n",
      "Episode 87000 | Win Percentage 0.000% | Epsilon 0.683\n",
      "Episode 88000 | Win Percentage 0.000% | Epsilon 0.680\n",
      "Episode 89000 | Win Percentage 0.000% | Epsilon 0.677\n",
      "Episode 90000 | Win Percentage 0.000% | Epsilon 0.674\n",
      "Episode 91000 | Win Percentage 10.000% | Epsilon 0.671\n",
      "Episode 92000 | Win Percentage 20.000% | Epsilon 0.668\n",
      "Episode 93000 | Win Percentage 10.000% | Epsilon 0.665\n",
      "Episode 94000 | Win Percentage 0.000% | Epsilon 0.662\n",
      "Episode 95000 | Win Percentage 0.000% | Epsilon 0.659\n",
      "Episode 96000 | Win Percentage 0.000% | Epsilon 0.657\n",
      "Episode 97000 | Win Percentage 0.000% | Epsilon 0.654\n",
      "Episode 98000 | Win Percentage 0.000% | Epsilon 0.651\n",
      "Episode 99000 | Win Percentage 0.000% | Epsilon 0.648\n"
     ]
    }
   ],
   "source": [
    "agent_lake=Agent(lr=0.01,gamma=0.95,n_actions=4,n_states=16,epsilon=1.0)\n",
    "N_GAMES=100000\n",
    "results=play_lake(env_slip,agent_lake,N_GAMES,10,1000)\n"
   ]
  },
  {
   "cell_type": "code",
   "execution_count": 49,
   "id": "78b98309-e9ac-45c6-a15d-e4aee730a6f6",
   "metadata": {},
   "outputs": [
    {
     "name": "stdout",
     "output_type": "stream",
     "text": [
      "Max win Percentage 30.00%\n"
     ]
    }
   ],
   "source": [
    "print(f\"Max win Percentage {max(results[0]):.2%}\")"
   ]
  },
  {
   "cell_type": "code",
   "execution_count": 47,
   "id": "d2b8c8fe-b9b9-4665-8909-d4c84dab1f28",
   "metadata": {},
   "outputs": [
    {
     "data": {
      "image/png": "[encoded data removed]",
      "text/plain": [
       "<Figure size 432x288 with 1 Axes>"
      ]
     },
     "metadata": {
      "needs_background": "light"
     },
     "output_type": "display_data"
    }
   ],
   "source": [
    "import seaborn as sns\n",
    "f,ax=plt.subplots();\n",
    "ax=sns.scatterplot(x=range(len(results[0])),y=results[0])\n",
    "ax.set_title(\"Win percentage\");"
   ]
  }
 ],
 "metadata": {
  "kernelspec": {
   "display_name": "Python 3",
   "language": "python",
   "name": "python3"
  },
  "language_info": {
   "codemirror_mode": {
    "name": "ipython",
    "version": 3
   },
   "file_extension": ".py",
   "mimetype": "text/x-python",
   "name": "python",
   "nbconvert_exporter": "python",
   "pygments_lexer": "ipython3",
   "version": "3.8.5"
  }
 },
 "nbformat": 4,
 "nbformat_minor": 5
}
