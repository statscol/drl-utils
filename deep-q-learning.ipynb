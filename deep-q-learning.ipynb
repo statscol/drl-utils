{
 "cells": [
  {
   "cell_type": "code",
   "execution_count": 4,
   "id": "51e1135a-848b-40dd-ae04-2a40a6bc0e13",
   "metadata": {},
   "outputs": [],
   "source": [
    "import gym\n",
    "#env = gym.make(\"FrozenLake-v1\")\n",
    "env = gym.make('CartPole-v1')"
   ]
  },
  {
   "cell_type": "code",
   "execution_count": 1,
   "id": "1dbf5d15-d386-4229-96dc-8037ed741250",
   "metadata": {},
   "outputs": [],
   "source": [
    "import torch\n",
    "import torch.nn.functional as F\n",
    "from torch.optim import Adam"
   ]
  },
  {
   "cell_type": "code",
   "execution_count": 3,
   "id": "7f3ee3fd-af4c-4802-b675-49ee7f6b90f7",
   "metadata": {},
   "outputs": [],
   "source": [
    "DEVICE=\"cuda:0\" if torch.cuda.is_available() else \"cpu\""
   ]
  },
  {
   "cell_type": "code",
   "execution_count": null,
   "id": "9410e649-ae65-44a9-921a-19a219e006fa",
   "metadata": {},
   "outputs": [],
   "source": [
    "class LinearClassifier(torch.nn.Module):\n",
    "    def __init__(self,lr,n_classes,input_dims):\n",
    "        super(LinearClassifier).__init__()\n",
    "        \n",
    "        self.fc1=torch.nn.Linear(input_dims,128)\n",
    "        self.fc2=torch.nn.Linear(128,256)\n",
    "        self.fc3=torch.nn.Linear(256,n_classes)\n",
    "        self.optimizer=Adam(self.parameters(),lr=lr)\n",
    "        self.criterion=torch.nn.CrossEntropyLoss()\n",
    "    \n",
    "    def forward(self,x):\n",
    "        out=F.sigmoid(self.fc1(x))\n",
    "        out=F.sigmoid(self.fc2(out))\n",
    "        out=self.fc3(out)\n",
    "        return out\n",
    "    \n",
    "    def learn(self,data,labels):\n",
    "        self.optimizer.zero_grad()\n",
    "        data=torch.tensor(data).to(device)\n",
    "        labels=torch.tensor(labels).to(device)\n",
    "        predictions=self(data)\n",
    "        cost=self.criterion(predictions,labels)\n",
    "        cost.backward()\n",
    "        self.optimizer.step()"
   ]
  },
  {
   "cell_type": "markdown",
   "id": "cfc8ba33-8928-429c-ba26-e96d36fae34a",
   "metadata": {},
   "source": [
    "## Define Agent and Q matrix estimator (Network)"
   ]
  },
  {
   "cell_type": "code",
   "execution_count": 52,
   "id": "dbc43163-84a0-43d3-be2b-80b1e154080e",
   "metadata": {},
   "outputs": [],
   "source": [
    "class NetworkEstimator(torch.nn.Module):\n",
    "    def __init__(self,lr,n_actions,input_dims):\n",
    "        super(NetworkEstimator,self).__init__()\n",
    "        \n",
    "        self.fc1=torch.nn.Linear(*input_dims,256)\n",
    "        self.fc2=torch.nn.Linear(256,n_actions)\n",
    "        self.criterion=torch.nn.MSELoss()\n",
    "        self.optimizer=Adam(self.parameters(),lr=lr)\n",
    "    \n",
    "    def forward(self,state):\n",
    "        out=F.relu(self.fc1(state))\n",
    "        actions=self.fc2(out)\n",
    "        return actions\n",
    "    \n",
    "class Agent():\n",
    "    def __init__(self,input_dims,n_actions,lr,gamma=0.99,epsilon=1.0,eps_dec=1e-5,eps_min=0.01):\n",
    "        self.lr=lr\n",
    "        self.input_dims=input_dims\n",
    "        self.n_actions=n_actions\n",
    "        self.gamma=gamma\n",
    "        self.epsilon=epsilon\n",
    "        self.eps_dec=eps_dec\n",
    "        self.eps_min=eps_min\n",
    "        self.action_space=[i for i in range(self.n_actions)]\n",
    "        \n",
    "        self.Q=NetworkEstimator(self.lr,self.n_actions,self.input_dims).to(DEVICE)\n",
    "        \n",
    "    def choose_action(self,observation):\n",
    "        if np.random.random() > self.epsilon:\n",
    "            state=torch.tensor(observation,dtype=torch.float).to(DEVICE)\n",
    "            actions=self.Q.forward(state)\n",
    "            action=torch.argmax(actions).item()\n",
    "        else:\n",
    "            action=np.random.choice(self.action_space)\n",
    "        return action\n",
    "    \n",
    "    \n",
    "        \n",
    "    def decrease_epsilon(self):\n",
    "        self.epsilon=self.epsilon-self.eps_dec if self.epsilon > self.eps_min else self.eps_min\n",
    "        \n",
    "        \n",
    "    def learn(self,state,action,reward,new_state):\n",
    "        self.Q.optimizer.zero_grad()\n",
    "        states=torch.tensor(state,dtype=torch.float).to(DEVICE)\n",
    "        actions=torch.tensor(action).to(DEVICE)\n",
    "        rewards=torch.tensor(reward).to(DEVICE)\n",
    "        new_states=torch.tensor(new_state,dtype=torch.float).to(DEVICE)\n",
    "        \n",
    "        q_pred=self.Q(states)[actions]\n",
    "        q_next=self.Q(new_states).max()\n",
    "        q_target=reward+self.gamma*q_next\n",
    "        loss= self.Q.criterion(q_target,q_pred)\n",
    "        loss.backward()\n",
    "        self.Q.optimizer.step()\n",
    "        self.decrease_epsilon()"
   ]
  },
  {
   "cell_type": "markdown",
   "id": "dec429f9-3c6d-40da-8d89-294b6dafafc3",
   "metadata": {},
   "source": [
    "### Play game and learn"
   ]
  },
  {
   "cell_type": "code",
   "execution_count": 62,
   "id": "4e110047-9bf4-42b9-b0d7-7cb9637d6e5c",
   "metadata": {},
   "outputs": [],
   "source": [
    "import numpy as np\n",
    "def play_pole(env_game,n_games,n_games_eval=100):\n",
    "    scores=[]\n",
    "    avg_scores=[]\n",
    "    eps_history=[]\n",
    "    \n",
    "    agent=Agent(env_game.observation_space.shape,env_game.action_space.n,0.001)\n",
    "    for game in range(n_games):\n",
    "        state=env_game.reset()\n",
    "        game_over=False\n",
    "        score=0\n",
    "        while not game_over:\n",
    "            #action=agent.choose_action(state)\n",
    "            action=agent.choose_action(state)\n",
    "            new_state, reward, game_over, info = env_game.step(action)\n",
    "            agent.learn(state,action,reward,new_state)\n",
    "            score+=reward\n",
    "            state=new_state\n",
    "            \n",
    "        scores.append(score)\n",
    "        \n",
    "        if game%n_games_eval==0:\n",
    "            avg_score=np.mean(scores[-n_games_eval:])\n",
    "            avg_scores.append(avg_score)\n",
    "            eps_history.append(agent.epsilon)\n",
    "            print(f\"Episode {game} | Score: {scores[-1]:.2f} Avg Score {avg_score:.2f} | Epsilon {agent.epsilon:.3f}\")\n",
    "    \n",
    "    return avg_scores,eps_history\n",
    "\n"
   ]
  },
  {
   "cell_type": "code",
   "execution_count": 63,
   "id": "a90bb094-5392-4a58-b945-d5c660d1a190",
   "metadata": {},
   "outputs": [
    {
     "name": "stdout",
     "output_type": "stream",
     "text": [
      "Episode 0 | Score: 19.00 Avg Score 19.00 | Epsilon 1.000\n",
      "Episode 1000 | Score: 46.00 Avg Score 24.37 | Epsilon 0.756\n",
      "Episode 2000 | Score: 44.00 Avg Score 32.71 | Epsilon 0.429\n",
      "Episode 3000 | Score: 9.00 Avg Score 33.71 | Epsilon 0.092\n",
      "Episode 4000 | Score: 10.00 Avg Score 13.96 | Epsilon 0.010\n",
      "Episode 5000 | Score: 9.00 Avg Score 11.54 | Epsilon 0.010\n",
      "Episode 6000 | Score: 10.00 Avg Score 11.31 | Epsilon 0.010\n",
      "Episode 7000 | Score: 9.00 Avg Score 10.61 | Epsilon 0.010\n",
      "Episode 8000 | Score: 10.00 Avg Score 10.96 | Epsilon 0.010\n",
      "Episode 9000 | Score: 10.00 Avg Score 10.81 | Epsilon 0.010\n",
      "Episode 10000 | Score: 9.00 Avg Score 12.73 | Epsilon 0.010\n",
      "Episode 11000 | Score: 10.00 Avg Score 10.73 | Epsilon 0.010\n",
      "Episode 12000 | Score: 9.00 Avg Score 11.19 | Epsilon 0.010\n",
      "Episode 13000 | Score: 10.00 Avg Score 10.96 | Epsilon 0.010\n",
      "Episode 14000 | Score: 8.00 Avg Score 11.02 | Epsilon 0.010\n",
      "Episode 15000 | Score: 9.00 Avg Score 11.13 | Epsilon 0.010\n",
      "Episode 16000 | Score: 10.00 Avg Score 10.93 | Epsilon 0.010\n",
      "Episode 17000 | Score: 8.00 Avg Score 10.33 | Epsilon 0.010\n",
      "Episode 18000 | Score: 10.00 Avg Score 10.28 | Epsilon 0.010\n",
      "Episode 19000 | Score: 10.00 Avg Score 9.96 | Epsilon 0.010\n",
      "Episode 20000 | Score: 9.00 Avg Score 10.04 | Epsilon 0.010\n",
      "Episode 21000 | Score: 9.00 Avg Score 10.62 | Epsilon 0.010\n",
      "Episode 22000 | Score: 9.00 Avg Score 10.32 | Epsilon 0.010\n",
      "Episode 23000 | Score: 10.00 Avg Score 10.85 | Epsilon 0.010\n",
      "Episode 24000 | Score: 9.00 Avg Score 11.12 | Epsilon 0.010\n",
      "Episode 25000 | Score: 9.00 Avg Score 10.96 | Epsilon 0.010\n",
      "Episode 26000 | Score: 10.00 Avg Score 10.87 | Epsilon 0.010\n",
      "Episode 27000 | Score: 8.00 Avg Score 11.25 | Epsilon 0.010\n",
      "Episode 28000 | Score: 59.00 Avg Score 11.59 | Epsilon 0.010\n",
      "Episode 29000 | Score: 10.00 Avg Score 10.97 | Epsilon 0.010\n",
      "Episode 30000 | Score: 9.00 Avg Score 9.99 | Epsilon 0.010\n",
      "Episode 31000 | Score: 9.00 Avg Score 10.35 | Epsilon 0.010\n",
      "Episode 32000 | Score: 10.00 Avg Score 13.03 | Epsilon 0.010\n",
      "Episode 33000 | Score: 8.00 Avg Score 11.13 | Epsilon 0.010\n",
      "Episode 34000 | Score: 9.00 Avg Score 12.08 | Epsilon 0.010\n",
      "Episode 35000 | Score: 9.00 Avg Score 10.51 | Epsilon 0.010\n",
      "Episode 36000 | Score: 10.00 Avg Score 9.97 | Epsilon 0.010\n",
      "Episode 37000 | Score: 9.00 Avg Score 10.00 | Epsilon 0.010\n",
      "Episode 38000 | Score: 9.00 Avg Score 9.88 | Epsilon 0.010\n",
      "Episode 39000 | Score: 8.00 Avg Score 9.68 | Epsilon 0.010\n",
      "Episode 40000 | Score: 9.00 Avg Score 10.11 | Epsilon 0.010\n",
      "Episode 41000 | Score: 9.00 Avg Score 10.42 | Epsilon 0.010\n",
      "Episode 42000 | Score: 9.00 Avg Score 10.23 | Epsilon 0.010\n",
      "Episode 43000 | Score: 10.00 Avg Score 10.22 | Epsilon 0.010\n",
      "Episode 44000 | Score: 10.00 Avg Score 10.53 | Epsilon 0.010\n",
      "Episode 45000 | Score: 9.00 Avg Score 11.56 | Epsilon 0.010\n",
      "Episode 46000 | Score: 9.00 Avg Score 11.36 | Epsilon 0.010\n",
      "Episode 47000 | Score: 9.00 Avg Score 11.05 | Epsilon 0.010\n",
      "Episode 48000 | Score: 9.00 Avg Score 10.98 | Epsilon 0.010\n",
      "Episode 49000 | Score: 9.00 Avg Score 11.15 | Epsilon 0.010\n",
      "Episode 50000 | Score: 9.00 Avg Score 11.09 | Epsilon 0.010\n",
      "Episode 51000 | Score: 10.00 Avg Score 10.97 | Epsilon 0.010\n",
      "Episode 52000 | Score: 13.00 Avg Score 12.26 | Epsilon 0.010\n",
      "Episode 53000 | Score: 10.00 Avg Score 11.25 | Epsilon 0.010\n",
      "Episode 54000 | Score: 10.00 Avg Score 12.11 | Epsilon 0.010\n",
      "Episode 55000 | Score: 9.00 Avg Score 11.65 | Epsilon 0.010\n",
      "Episode 56000 | Score: 10.00 Avg Score 12.27 | Epsilon 0.010\n",
      "Episode 57000 | Score: 8.00 Avg Score 11.45 | Epsilon 0.010\n",
      "Episode 58000 | Score: 9.00 Avg Score 10.55 | Epsilon 0.010\n",
      "Episode 59000 | Score: 9.00 Avg Score 11.05 | Epsilon 0.010\n",
      "Episode 60000 | Score: 10.00 Avg Score 11.89 | Epsilon 0.010\n",
      "Episode 61000 | Score: 9.00 Avg Score 11.38 | Epsilon 0.010\n",
      "Episode 62000 | Score: 8.00 Avg Score 11.92 | Epsilon 0.010\n",
      "Episode 63000 | Score: 10.00 Avg Score 12.18 | Epsilon 0.010\n",
      "Episode 64000 | Score: 10.00 Avg Score 11.24 | Epsilon 0.010\n",
      "Episode 65000 | Score: 9.00 Avg Score 11.32 | Epsilon 0.010\n",
      "Episode 66000 | Score: 10.00 Avg Score 12.16 | Epsilon 0.010\n",
      "Episode 67000 | Score: 9.00 Avg Score 11.43 | Epsilon 0.010\n",
      "Episode 68000 | Score: 8.00 Avg Score 11.78 | Epsilon 0.010\n",
      "Episode 69000 | Score: 9.00 Avg Score 11.54 | Epsilon 0.010\n",
      "Episode 70000 | Score: 10.00 Avg Score 11.11 | Epsilon 0.010\n",
      "Episode 71000 | Score: 8.00 Avg Score 10.96 | Epsilon 0.010\n",
      "Episode 72000 | Score: 8.00 Avg Score 11.24 | Epsilon 0.010\n",
      "Episode 73000 | Score: 8.00 Avg Score 11.67 | Epsilon 0.010\n",
      "Episode 74000 | Score: 10.00 Avg Score 12.15 | Epsilon 0.010\n",
      "Episode 75000 | Score: 9.00 Avg Score 11.98 | Epsilon 0.010\n",
      "Episode 76000 | Score: 10.00 Avg Score 11.65 | Epsilon 0.010\n",
      "Episode 77000 | Score: 9.00 Avg Score 11.89 | Epsilon 0.010\n",
      "Episode 78000 | Score: 8.00 Avg Score 11.72 | Epsilon 0.010\n",
      "Episode 79000 | Score: 8.00 Avg Score 11.11 | Epsilon 0.010\n",
      "Episode 80000 | Score: 10.00 Avg Score 12.17 | Epsilon 0.010\n",
      "Episode 81000 | Score: 9.00 Avg Score 10.85 | Epsilon 0.010\n",
      "Episode 82000 | Score: 9.00 Avg Score 11.94 | Epsilon 0.010\n",
      "Episode 83000 | Score: 9.00 Avg Score 11.28 | Epsilon 0.010\n",
      "Episode 84000 | Score: 10.00 Avg Score 11.45 | Epsilon 0.010\n",
      "Episode 85000 | Score: 8.00 Avg Score 11.49 | Epsilon 0.010\n",
      "Episode 86000 | Score: 10.00 Avg Score 11.33 | Epsilon 0.010\n",
      "Episode 87000 | Score: 9.00 Avg Score 11.61 | Epsilon 0.010\n",
      "Episode 88000 | Score: 9.00 Avg Score 11.27 | Epsilon 0.010\n",
      "Episode 89000 | Score: 9.00 Avg Score 10.72 | Epsilon 0.010\n",
      "Episode 90000 | Score: 11.00 Avg Score 10.85 | Epsilon 0.010\n",
      "Episode 91000 | Score: 10.00 Avg Score 11.06 | Epsilon 0.010\n",
      "Episode 92000 | Score: 10.00 Avg Score 11.76 | Epsilon 0.010\n",
      "Episode 93000 | Score: 10.00 Avg Score 10.92 | Epsilon 0.010\n",
      "Episode 94000 | Score: 9.00 Avg Score 11.50 | Epsilon 0.010\n",
      "Episode 95000 | Score: 9.00 Avg Score 11.65 | Epsilon 0.010\n",
      "Episode 96000 | Score: 10.00 Avg Score 11.77 | Epsilon 0.010\n",
      "Episode 97000 | Score: 40.00 Avg Score 12.32 | Epsilon 0.010\n",
      "Episode 98000 | Score: 10.00 Avg Score 11.39 | Epsilon 0.010\n",
      "Episode 99000 | Score: 9.00 Avg Score 11.98 | Epsilon 0.010\n"
     ]
    }
   ],
   "source": [
    "N_GAMES=100000\n",
    "scores_game,epsilons=play_pole(env,N_GAMES,1000)"
   ]
  },
  {
   "cell_type": "code",
   "execution_count": 64,
   "id": "c6c05582-396c-4308-9473-2802ec0b9712",
   "metadata": {},
   "outputs": [
    {
     "data": {
      "image/png": "[encoded data removed]",
      "text/plain": [
       "<Figure size 576x576 with 1 Axes>"
      ]
     },
     "metadata": {
      "needs_background": "light"
     },
     "output_type": "display_data"
    }
   ],
   "source": [
    "## See results\n",
    "\n",
    "import seaborn as sns\n",
    "import matplotlib.pyplot as plt\n",
    "\n",
    "\n",
    "f,ax=plt.subplots(figsize=(8,8))\n",
    "ax=sns.lineplot(x=np.arange(len(scores_game)),y=scores_game,color=\"darkred\")"
   ]
  },
  {
   "cell_type": "markdown",
   "id": "0e256860-051b-4f0d-9f72-b07db0774251",
   "metadata": {},
   "source": [
    "## Using last 3 states for learning\n"
   ]
  },
  {
   "cell_type": "code",
   "execution_count": 326,
   "id": "5ea3ae2b-533c-4c9d-b63f-469aa031e431",
   "metadata": {},
   "outputs": [],
   "source": [
    "#lets similate n-games and build a dataset\n",
    "N_GAMES=10000\n",
    "N_STEPS=4\n",
    "scores=[]\n",
    "global_actions=[]\n",
    "global_observations=[]\n",
    "for game in range(N_GAMES):\n",
    "    state=env.reset()\n",
    "    observations=[]\n",
    "    counter_steps=0\n",
    "    game_over=False\n",
    "    game_over=False\n",
    "    score=0\n",
    "    observations=[]\n",
    "    actions=[]\n",
    "    while not game_over:\n",
    "        #action=agent.choose_action(state)\n",
    "        action=env.action_space.sample()\n",
    "        new_state, reward, game_over, info = env.step(action)\n",
    "        score+=reward\n",
    "        state=new_state\n",
    "        counter_steps+=1\n",
    "        new_state[0]*=(1/4.8)   ## standardize position according to  https://www.gymlibrary.dev/environments/classic_control/cart_pole/?highlight=cartpole\n",
    "        new_state[2]*=(1/0.418)\n",
    "        observations.append(new_state)\n",
    "        actions.append(action)\n",
    "        if counter_steps==N_STEPS and not game_over:\n",
    "            scores.append(score)\n",
    "            global_actions.append(actions)\n",
    "            global_observations.append(observations)\n",
    "            observations=[]\n",
    "            actions=[]\n",
    "            counter_steps=0\n"
   ]
  },
  {
   "cell_type": "code",
   "execution_count": 260,
   "id": "492ffa60-4fe8-49c5-949b-c8cce3d82ecb",
   "metadata": {},
   "outputs": [
    {
     "data": {
      "text/plain": [
       "494200"
      ]
     },
     "execution_count": 260,
     "metadata": {},
     "output_type": "execute_result"
    }
   ],
   "source": [
    "len(global_observations)"
   ]
  },
  {
   "cell_type": "code",
   "execution_count": 327,
   "id": "a30731c5-cc79-4012-94ee-638292c7e98f",
   "metadata": {},
   "outputs": [],
   "source": [
    "global_observations=np.stack(global_observations)\n",
    "global_actions=np.stack(global_actions)"
   ]
  },
  {
   "cell_type": "code",
   "execution_count": 328,
   "id": "42f16b75-6cf1-4179-a2f1-2a9ed863f838",
   "metadata": {},
   "outputs": [],
   "source": [
    "#X,Y=global_observations[:,:-1,:],torch.nn.functional.one_hot(torch.tensor(global_actions[:,-1]), num_classes=2)\n",
    "X,Y=global_actions[:,:-1],torch.nn.functional.one_hot(torch.tensor(global_actions[:,-1]), num_classes=2)\n",
    "#X,Y=global_observations[:,:-1,:],torch.tensor(global_actions[:,-1])"
   ]
  },
  {
   "cell_type": "markdown",
   "id": "329044a9-5663-464f-9920-791a5ada5139",
   "metadata": {},
   "source": [
    "## Define Training data\n",
    "Note: just using it for testing purposes, so not creating a validation set for now"
   ]
  },
  {
   "cell_type": "code",
   "execution_count": 330,
   "id": "b6c91307-e845-49aa-8d5d-b615632e15b6",
   "metadata": {},
   "outputs": [
    {
     "name": "stderr",
     "output_type": "stream",
     "text": [
      "<ipython-input-330-fd1b6aa56685>:4: UserWarning: To copy construct from a tensor, it is recommended to use sourceTensor.clone().detach() or sourceTensor.clone().detach().requires_grad_(True), rather than torch.tensor(sourceTensor).\n",
      "  train_data=TensorDataset(torch.tensor(X,dtype=torch.float),torch.tensor(Y,dtype=torch.float))\n"
     ]
    }
   ],
   "source": [
    "from torch.utils.data import DataLoader,TensorDataset\n",
    "\n",
    "BATCH_SIZE=128\n",
    "train_data=TensorDataset(torch.tensor(X,dtype=torch.float),torch.tensor(Y,dtype=torch.float))\n",
    "train_dl=DataLoader(train_data,batch_size=BATCH_SIZE,shuffle=True)"
   ]
  },
  {
   "cell_type": "code",
   "execution_count": 331,
   "id": "ec01c945-a85a-4632-a3c8-ece2eec0de42",
   "metadata": {},
   "outputs": [],
   "source": [
    "class NetworkEstimator(torch.nn.Module):\n",
    "    def __init__(self,n_actions,input_dim=12):\n",
    "        super(NetworkEstimator,self).__init__()\n",
    "        self.input_shape=input_dim\n",
    "        self.fc1=torch.nn.Linear(input_dim,256) #flatten 3 observation with 4 observations each = 3*4=12\n",
    "        self.fc2=torch.nn.Linear(256,128)\n",
    "        self.dropout=torch.nn.Dropout(0.3)\n",
    "        self.fc3=torch.nn.Linear(128,n_actions)\n",
    "    \n",
    "    def forward(self,states):\n",
    "        \n",
    "        out=F.relu(self.fc1(states.view((-1,self.input_shape))))\n",
    "        out=F.relu(self.fc2(out))\n",
    "        out=self.dropout(out)\n",
    "        out=self.fc3(out)\n",
    "        return out\n",
    "model=NetworkEstimator(2,3)"
   ]
  },
  {
   "cell_type": "code",
   "execution_count": 332,
   "id": "27c5c9e0-a8d3-4b11-adae-5acbac1a4444",
   "metadata": {},
   "outputs": [],
   "source": [
    "a=next(iter(train_dl))"
   ]
  },
  {
   "cell_type": "code",
   "execution_count": 419,
   "id": "cc850803-d6a7-4482-a3b1-594a4f7b82ef",
   "metadata": {},
   "outputs": [
    {
     "data": {
      "text/plain": [
       "NetworkEstimator(\n",
       "  (fc1): Linear(in_features=3, out_features=256, bias=True)\n",
       "  (fc2): Linear(in_features=256, out_features=128, bias=True)\n",
       "  (dropout): Dropout(p=0.3, inplace=False)\n",
       "  (fc3): Linear(in_features=128, out_features=2, bias=True)\n",
       ")"
      ]
     },
     "execution_count": 419,
     "metadata": {},
     "output_type": "execute_result"
    }
   ],
   "source": [
    "#define optimizer and loss\n",
    "\n",
    "criterion=torch.nn.BCEWithLogitsLoss()\n",
    "#criterion=torch.nn.MSELoss()\n",
    "optimizer=Adam(model.parameters(),lr=1e-04)\n",
    "model.to(DEVICE)"
   ]
  },
  {
   "cell_type": "code",
   "execution_count": 420,
   "id": "20023697-5032-4d5a-96f7-03c8dde8ca13",
   "metadata": {},
   "outputs": [
    {
     "name": "stderr",
     "output_type": "stream",
     "text": [
      "Training...:   0%|          | 1/1000 [00:00<16:01,  1.04it/s]"
     ]
    },
    {
     "name": "stdout",
     "output_type": "stream",
     "text": [
      "Epoch 0| Train Loss 266.834 | Precision 0.581 | Recall 0.507 | F1-score 0.542\n"
     ]
    },
    {
     "name": "stderr",
     "output_type": "stream",
     "text": [
      "Training...:   1%|          | 11/1000 [00:09<14:14,  1.16it/s]"
     ]
    },
    {
     "name": "stdout",
     "output_type": "stream",
     "text": [
      "Epoch 10| Train Loss 266.832 | Precision 0.590 | Recall 0.508 | F1-score 0.546\n"
     ]
    },
    {
     "name": "stderr",
     "output_type": "stream",
     "text": [
      "Training...:   2%|▏         | 21/1000 [00:19<16:05,  1.01it/s]"
     ]
    },
    {
     "name": "stdout",
     "output_type": "stream",
     "text": [
      "Epoch 20| Train Loss 266.840 | Precision 0.581 | Recall 0.507 | F1-score 0.542\n"
     ]
    },
    {
     "name": "stderr",
     "output_type": "stream",
     "text": [
      "Training...:   3%|▎         | 31/1000 [00:28<14:47,  1.09it/s]"
     ]
    },
    {
     "name": "stdout",
     "output_type": "stream",
     "text": [
      "Epoch 30| Train Loss 266.836 | Precision 0.602 | Recall 0.505 | F1-score 0.549\n"
     ]
    },
    {
     "name": "stderr",
     "output_type": "stream",
     "text": [
      "Training...:   4%|▍         | 41/1000 [00:36<14:40,  1.09it/s]"
     ]
    },
    {
     "name": "stdout",
     "output_type": "stream",
     "text": [
      "Epoch 40| Train Loss 266.823 | Precision 0.560 | Recall 0.509 | F1-score 0.533\n"
     ]
    },
    {
     "name": "stderr",
     "output_type": "stream",
     "text": [
      "Training...:   5%|▌         | 51/1000 [00:45<14:09,  1.12it/s]"
     ]
    },
    {
     "name": "stdout",
     "output_type": "stream",
     "text": [
      "Epoch 50| Train Loss 266.832 | Precision 0.602 | Recall 0.505 | F1-score 0.549\n"
     ]
    },
    {
     "name": "stderr",
     "output_type": "stream",
     "text": [
      "Training...:   6%|▌         | 61/1000 [00:54<14:39,  1.07it/s]"
     ]
    },
    {
     "name": "stdout",
     "output_type": "stream",
     "text": [
      "Epoch 60| Train Loss 266.830 | Precision 0.567 | Recall 0.509 | F1-score 0.537\n"
     ]
    },
    {
     "name": "stderr",
     "output_type": "stream",
     "text": [
      "Training...:   7%|▋         | 71/1000 [01:03<13:55,  1.11it/s]"
     ]
    },
    {
     "name": "stdout",
     "output_type": "stream",
     "text": [
      "Epoch 70| Train Loss 266.817 | Precision 0.571 | Recall 0.509 | F1-score 0.538\n"
     ]
    },
    {
     "name": "stderr",
     "output_type": "stream",
     "text": [
      "Training...:   8%|▊         | 81/1000 [01:12<13:50,  1.11it/s]"
     ]
    },
    {
     "name": "stdout",
     "output_type": "stream",
     "text": [
      "Epoch 80| Train Loss 266.830 | Precision 0.533 | Recall 0.510 | F1-score 0.521\n"
     ]
    },
    {
     "name": "stderr",
     "output_type": "stream",
     "text": [
      "Training...:   9%|▉         | 91/1000 [01:21<13:58,  1.08it/s]"
     ]
    },
    {
     "name": "stdout",
     "output_type": "stream",
     "text": [
      "Epoch 90| Train Loss 266.819 | Precision 0.577 | Recall 0.509 | F1-score 0.541\n"
     ]
    },
    {
     "name": "stderr",
     "output_type": "stream",
     "text": [
      "Training...:  10%|█         | 101/1000 [01:30<15:01,  1.00s/it]"
     ]
    },
    {
     "name": "stdout",
     "output_type": "stream",
     "text": [
      "Epoch 100| Train Loss 266.815 | Precision 0.545 | Recall 0.509 | F1-score 0.526\n"
     ]
    },
    {
     "name": "stderr",
     "output_type": "stream",
     "text": [
      "Training...:  11%|█         | 111/1000 [01:39<13:42,  1.08it/s]"
     ]
    },
    {
     "name": "stdout",
     "output_type": "stream",
     "text": [
      "Epoch 110| Train Loss 266.824 | Precision 0.570 | Recall 0.508 | F1-score 0.537\n"
     ]
    },
    {
     "name": "stderr",
     "output_type": "stream",
     "text": [
      "Training...:  12%|█▏        | 121/1000 [01:49<13:35,  1.08it/s]"
     ]
    },
    {
     "name": "stdout",
     "output_type": "stream",
     "text": [
      "Epoch 120| Train Loss 266.828 | Precision 0.580 | Recall 0.508 | F1-score 0.542\n"
     ]
    },
    {
     "name": "stderr",
     "output_type": "stream",
     "text": [
      "Training...:  13%|█▎        | 131/1000 [01:58<13:22,  1.08it/s]"
     ]
    },
    {
     "name": "stdout",
     "output_type": "stream",
     "text": [
      "Epoch 130| Train Loss 266.813 | Precision 0.562 | Recall 0.509 | F1-score 0.534\n"
     ]
    },
    {
     "name": "stderr",
     "output_type": "stream",
     "text": [
      "Training...:  14%|█▍        | 141/1000 [02:07<13:54,  1.03it/s]"
     ]
    },
    {
     "name": "stdout",
     "output_type": "stream",
     "text": [
      "Epoch 140| Train Loss 266.827 | Precision 0.580 | Recall 0.505 | F1-score 0.540\n"
     ]
    },
    {
     "name": "stderr",
     "output_type": "stream",
     "text": [
      "Training...:  15%|█▌        | 151/1000 [02:16<13:04,  1.08it/s]"
     ]
    },
    {
     "name": "stdout",
     "output_type": "stream",
     "text": [
      "Epoch 150| Train Loss 266.837 | Precision 0.582 | Recall 0.508 | F1-score 0.542\n"
     ]
    },
    {
     "name": "stderr",
     "output_type": "stream",
     "text": [
      "Training...:  16%|█▌        | 161/1000 [02:25<12:44,  1.10it/s]"
     ]
    },
    {
     "name": "stdout",
     "output_type": "stream",
     "text": [
      "Epoch 160| Train Loss 266.827 | Precision 0.603 | Recall 0.508 | F1-score 0.551\n"
     ]
    },
    {
     "name": "stderr",
     "output_type": "stream",
     "text": [
      "Training...:  17%|█▋        | 171/1000 [02:35<13:08,  1.05it/s]"
     ]
    },
    {
     "name": "stdout",
     "output_type": "stream",
     "text": [
      "Epoch 170| Train Loss 266.827 | Precision 0.609 | Recall 0.506 | F1-score 0.553\n"
     ]
    },
    {
     "name": "stderr",
     "output_type": "stream",
     "text": [
      "Training...:  18%|█▊        | 181/1000 [02:44<11:49,  1.15it/s]"
     ]
    },
    {
     "name": "stdout",
     "output_type": "stream",
     "text": [
      "Epoch 180| Train Loss 266.815 | Precision 0.545 | Recall 0.509 | F1-score 0.526\n"
     ]
    },
    {
     "name": "stderr",
     "output_type": "stream",
     "text": [
      "Training...:  19%|█▉        | 191/1000 [02:52<12:13,  1.10it/s]"
     ]
    },
    {
     "name": "stdout",
     "output_type": "stream",
     "text": [
      "Epoch 190| Train Loss 266.828 | Precision 0.565 | Recall 0.508 | F1-score 0.535\n"
     ]
    },
    {
     "name": "stderr",
     "output_type": "stream",
     "text": [
      "Training...:  20%|██        | 201/1000 [03:01<12:06,  1.10it/s]"
     ]
    },
    {
     "name": "stdout",
     "output_type": "stream",
     "text": [
      "Epoch 200| Train Loss 266.826 | Precision 0.595 | Recall 0.507 | F1-score 0.548\n"
     ]
    },
    {
     "name": "stderr",
     "output_type": "stream",
     "text": [
      "Training...:  21%|██        | 211/1000 [03:11<12:15,  1.07it/s]"
     ]
    },
    {
     "name": "stdout",
     "output_type": "stream",
     "text": [
      "Epoch 210| Train Loss 266.843 | Precision 0.595 | Recall 0.507 | F1-score 0.547\n"
     ]
    },
    {
     "name": "stderr",
     "output_type": "stream",
     "text": [
      "Training...:  22%|██▏       | 221/1000 [03:20<11:55,  1.09it/s]"
     ]
    },
    {
     "name": "stdout",
     "output_type": "stream",
     "text": [
      "Epoch 220| Train Loss 266.825 | Precision 0.555 | Recall 0.508 | F1-score 0.531\n"
     ]
    },
    {
     "name": "stderr",
     "output_type": "stream",
     "text": [
      "Training...:  23%|██▎       | 231/1000 [03:29<11:45,  1.09it/s]"
     ]
    },
    {
     "name": "stdout",
     "output_type": "stream",
     "text": [
      "Epoch 230| Train Loss 266.814 | Precision 0.633 | Recall 0.509 | F1-score 0.565\n"
     ]
    },
    {
     "name": "stderr",
     "output_type": "stream",
     "text": [
      "Training...:  24%|██▍       | 241/1000 [03:38<11:22,  1.11it/s]"
     ]
    },
    {
     "name": "stdout",
     "output_type": "stream",
     "text": [
      "Epoch 240| Train Loss 266.828 | Precision 0.567 | Recall 0.507 | F1-score 0.535\n"
     ]
    },
    {
     "name": "stderr",
     "output_type": "stream",
     "text": [
      "Training...:  25%|██▌       | 251/1000 [03:47<11:24,  1.09it/s]"
     ]
    },
    {
     "name": "stdout",
     "output_type": "stream",
     "text": [
      "Epoch 250| Train Loss 266.832 | Precision 0.593 | Recall 0.507 | F1-score 0.547\n"
     ]
    },
    {
     "name": "stderr",
     "output_type": "stream",
     "text": [
      "Training...:  26%|██▌       | 261/1000 [03:56<11:26,  1.08it/s]"
     ]
    },
    {
     "name": "stdout",
     "output_type": "stream",
     "text": [
      "Epoch 260| Train Loss 266.826 | Precision 0.545 | Recall 0.509 | F1-score 0.527\n"
     ]
    },
    {
     "name": "stderr",
     "output_type": "stream",
     "text": [
      "Training...:  27%|██▋       | 271/1000 [04:06<11:24,  1.06it/s]"
     ]
    },
    {
     "name": "stdout",
     "output_type": "stream",
     "text": [
      "Epoch 270| Train Loss 266.825 | Precision 0.546 | Recall 0.509 | F1-score 0.527\n"
     ]
    },
    {
     "name": "stderr",
     "output_type": "stream",
     "text": [
      "Training...:  28%|██▊       | 281/1000 [04:15<10:55,  1.10it/s]"
     ]
    },
    {
     "name": "stdout",
     "output_type": "stream",
     "text": [
      "Epoch 280| Train Loss 266.835 | Precision 0.546 | Recall 0.509 | F1-score 0.527\n"
     ]
    },
    {
     "name": "stderr",
     "output_type": "stream",
     "text": [
      "Training...:  29%|██▉       | 291/1000 [04:24<10:55,  1.08it/s]"
     ]
    },
    {
     "name": "stdout",
     "output_type": "stream",
     "text": [
      "Epoch 290| Train Loss 266.840 | Precision 0.551 | Recall 0.508 | F1-score 0.529\n"
     ]
    },
    {
     "name": "stderr",
     "output_type": "stream",
     "text": [
      "Training...:  30%|███       | 301/1000 [04:33<11:06,  1.05it/s]"
     ]
    },
    {
     "name": "stdout",
     "output_type": "stream",
     "text": [
      "Epoch 300| Train Loss 266.838 | Precision 0.581 | Recall 0.508 | F1-score 0.542\n"
     ]
    },
    {
     "name": "stderr",
     "output_type": "stream",
     "text": [
      "Training...:  31%|███       | 311/1000 [04:42<10:25,  1.10it/s]"
     ]
    },
    {
     "name": "stdout",
     "output_type": "stream",
     "text": [
      "Epoch 310| Train Loss 266.838 | Precision 0.572 | Recall 0.507 | F1-score 0.538\n"
     ]
    },
    {
     "name": "stderr",
     "output_type": "stream",
     "text": [
      "Training...:  32%|███▏      | 321/1000 [04:51<10:10,  1.11it/s]"
     ]
    },
    {
     "name": "stdout",
     "output_type": "stream",
     "text": [
      "Epoch 320| Train Loss 266.832 | Precision 0.562 | Recall 0.510 | F1-score 0.535\n"
     ]
    },
    {
     "name": "stderr",
     "output_type": "stream",
     "text": [
      "Training...:  33%|███▎      | 331/1000 [05:00<10:01,  1.11it/s]"
     ]
    },
    {
     "name": "stdout",
     "output_type": "stream",
     "text": [
      "Epoch 330| Train Loss 266.828 | Precision 0.546 | Recall 0.509 | F1-score 0.527\n"
     ]
    },
    {
     "name": "stderr",
     "output_type": "stream",
     "text": [
      "Training...:  34%|███▍      | 341/1000 [05:09<09:58,  1.10it/s]"
     ]
    },
    {
     "name": "stdout",
     "output_type": "stream",
     "text": [
      "Epoch 340| Train Loss 266.825 | Precision 0.551 | Recall 0.507 | F1-score 0.528\n"
     ]
    },
    {
     "name": "stderr",
     "output_type": "stream",
     "text": [
      "Training...:  35%|███▌      | 351/1000 [05:18<09:46,  1.11it/s]"
     ]
    },
    {
     "name": "stdout",
     "output_type": "stream",
     "text": [
      "Epoch 350| Train Loss 266.824 | Precision 0.535 | Recall 0.507 | F1-score 0.521\n"
     ]
    },
    {
     "name": "stderr",
     "output_type": "stream",
     "text": [
      "Training...:  36%|███▌      | 361/1000 [05:27<09:46,  1.09it/s]"
     ]
    },
    {
     "name": "stdout",
     "output_type": "stream",
     "text": [
      "Epoch 360| Train Loss 266.815 | Precision 0.510 | Recall 0.510 | F1-score 0.510\n"
     ]
    },
    {
     "name": "stderr",
     "output_type": "stream",
     "text": [
      "Training...:  37%|███▋      | 371/1000 [05:36<09:17,  1.13it/s]"
     ]
    },
    {
     "name": "stdout",
     "output_type": "stream",
     "text": [
      "Epoch 370| Train Loss 266.817 | Precision 0.558 | Recall 0.509 | F1-score 0.533\n"
     ]
    },
    {
     "name": "stderr",
     "output_type": "stream",
     "text": [
      "Training...:  38%|███▊      | 381/1000 [05:45<09:17,  1.11it/s]"
     ]
    },
    {
     "name": "stdout",
     "output_type": "stream",
     "text": [
      "Epoch 380| Train Loss 266.834 | Precision 0.550 | Recall 0.509 | F1-score 0.529\n"
     ]
    },
    {
     "name": "stderr",
     "output_type": "stream",
     "text": [
      "Training...:  39%|███▉      | 391/1000 [05:54<09:12,  1.10it/s]"
     ]
    },
    {
     "name": "stdout",
     "output_type": "stream",
     "text": [
      "Epoch 390| Train Loss 266.810 | Precision 0.547 | Recall 0.509 | F1-score 0.527\n"
     ]
    },
    {
     "name": "stderr",
     "output_type": "stream",
     "text": [
      "Training...:  40%|████      | 401/1000 [06:02<08:40,  1.15it/s]"
     ]
    },
    {
     "name": "stdout",
     "output_type": "stream",
     "text": [
      "Epoch 400| Train Loss 266.830 | Precision 0.562 | Recall 0.508 | F1-score 0.533\n"
     ]
    },
    {
     "name": "stderr",
     "output_type": "stream",
     "text": [
      "Training...:  41%|████      | 411/1000 [06:10<08:02,  1.22it/s]"
     ]
    },
    {
     "name": "stdout",
     "output_type": "stream",
     "text": [
      "Epoch 410| Train Loss 266.829 | Precision 0.575 | Recall 0.508 | F1-score 0.539\n"
     ]
    },
    {
     "name": "stderr",
     "output_type": "stream",
     "text": [
      "Training...:  42%|████▏     | 421/1000 [06:19<08:35,  1.12it/s]"
     ]
    },
    {
     "name": "stdout",
     "output_type": "stream",
     "text": [
      "Epoch 420| Train Loss 266.833 | Precision 0.555 | Recall 0.507 | F1-score 0.530\n"
     ]
    },
    {
     "name": "stderr",
     "output_type": "stream",
     "text": [
      "Training...:  43%|████▎     | 431/1000 [06:28<08:57,  1.06it/s]"
     ]
    },
    {
     "name": "stdout",
     "output_type": "stream",
     "text": [
      "Epoch 430| Train Loss 266.822 | Precision 0.589 | Recall 0.508 | F1-score 0.545\n"
     ]
    },
    {
     "name": "stderr",
     "output_type": "stream",
     "text": [
      "Training...:  44%|████▍     | 441/1000 [06:38<08:34,  1.09it/s]"
     ]
    },
    {
     "name": "stdout",
     "output_type": "stream",
     "text": [
      "Epoch 440| Train Loss 266.817 | Precision 0.568 | Recall 0.511 | F1-score 0.538\n"
     ]
    },
    {
     "name": "stderr",
     "output_type": "stream",
     "text": [
      "Training...:  45%|████▌     | 451/1000 [06:47<08:19,  1.10it/s]"
     ]
    },
    {
     "name": "stdout",
     "output_type": "stream",
     "text": [
      "Epoch 450| Train Loss 266.828 | Precision 0.549 | Recall 0.507 | F1-score 0.527\n"
     ]
    },
    {
     "name": "stderr",
     "output_type": "stream",
     "text": [
      "Training...:  46%|████▌     | 461/1000 [06:56<08:13,  1.09it/s]"
     ]
    },
    {
     "name": "stdout",
     "output_type": "stream",
     "text": [
      "Epoch 460| Train Loss 266.820 | Precision 0.546 | Recall 0.509 | F1-score 0.526\n"
     ]
    },
    {
     "name": "stderr",
     "output_type": "stream",
     "text": [
      "Training...:  47%|████▋     | 471/1000 [07:05<07:59,  1.10it/s]"
     ]
    },
    {
     "name": "stdout",
     "output_type": "stream",
     "text": [
      "Epoch 470| Train Loss 266.828 | Precision 0.546 | Recall 0.508 | F1-score 0.526\n"
     ]
    },
    {
     "name": "stderr",
     "output_type": "stream",
     "text": [
      "Training...:  48%|████▊     | 481/1000 [07:13<07:44,  1.12it/s]"
     ]
    },
    {
     "name": "stdout",
     "output_type": "stream",
     "text": [
      "Epoch 480| Train Loss 266.818 | Precision 0.588 | Recall 0.507 | F1-score 0.544\n"
     ]
    },
    {
     "name": "stderr",
     "output_type": "stream",
     "text": [
      "Training...:  49%|████▉     | 491/1000 [07:22<07:31,  1.13it/s]"
     ]
    },
    {
     "name": "stdout",
     "output_type": "stream",
     "text": [
      "Epoch 490| Train Loss 266.822 | Precision 0.568 | Recall 0.509 | F1-score 0.537\n"
     ]
    },
    {
     "name": "stderr",
     "output_type": "stream",
     "text": [
      "Training...:  50%|█████     | 501/1000 [07:31<07:23,  1.12it/s]"
     ]
    },
    {
     "name": "stdout",
     "output_type": "stream",
     "text": [
      "Epoch 500| Train Loss 266.824 | Precision 0.575 | Recall 0.508 | F1-score 0.540\n"
     ]
    },
    {
     "name": "stderr",
     "output_type": "stream",
     "text": [
      "Training...:  51%|█████     | 511/1000 [07:40<07:23,  1.10it/s]"
     ]
    },
    {
     "name": "stdout",
     "output_type": "stream",
     "text": [
      "Epoch 510| Train Loss 266.822 | Precision 0.602 | Recall 0.508 | F1-score 0.551\n"
     ]
    },
    {
     "name": "stderr",
     "output_type": "stream",
     "text": [
      "Training...:  52%|█████▏    | 521/1000 [07:49<07:21,  1.09it/s]"
     ]
    },
    {
     "name": "stdout",
     "output_type": "stream",
     "text": [
      "Epoch 520| Train Loss 266.817 | Precision 0.570 | Recall 0.507 | F1-score 0.537\n"
     ]
    },
    {
     "name": "stderr",
     "output_type": "stream",
     "text": [
      "Training...:  53%|█████▎    | 531/1000 [07:58<07:21,  1.06it/s]"
     ]
    },
    {
     "name": "stdout",
     "output_type": "stream",
     "text": [
      "Epoch 530| Train Loss 266.830 | Precision 0.587 | Recall 0.506 | F1-score 0.543\n"
     ]
    },
    {
     "name": "stderr",
     "output_type": "stream",
     "text": [
      "Training...:  54%|█████▍    | 541/1000 [08:07<06:38,  1.15it/s]"
     ]
    },
    {
     "name": "stdout",
     "output_type": "stream",
     "text": [
      "Epoch 540| Train Loss 266.820 | Precision 0.582 | Recall 0.508 | F1-score 0.542\n"
     ]
    },
    {
     "name": "stderr",
     "output_type": "stream",
     "text": [
      "Training...:  55%|█████▌    | 551/1000 [08:16<06:46,  1.10it/s]"
     ]
    },
    {
     "name": "stdout",
     "output_type": "stream",
     "text": [
      "Epoch 550| Train Loss 266.821 | Precision 0.583 | Recall 0.507 | F1-score 0.543\n"
     ]
    },
    {
     "name": "stderr",
     "output_type": "stream",
     "text": [
      "Training...:  56%|█████▌    | 561/1000 [08:25<06:52,  1.06it/s]"
     ]
    },
    {
     "name": "stdout",
     "output_type": "stream",
     "text": [
      "Epoch 560| Train Loss 266.817 | Precision 0.567 | Recall 0.508 | F1-score 0.536\n"
     ]
    },
    {
     "name": "stderr",
     "output_type": "stream",
     "text": [
      "Training...:  57%|█████▋    | 571/1000 [08:34<06:40,  1.07it/s]"
     ]
    },
    {
     "name": "stdout",
     "output_type": "stream",
     "text": [
      "Epoch 570| Train Loss 266.820 | Precision 0.585 | Recall 0.508 | F1-score 0.544\n"
     ]
    },
    {
     "name": "stderr",
     "output_type": "stream",
     "text": [
      "Training...:  58%|█████▊    | 581/1000 [08:43<06:29,  1.08it/s]"
     ]
    },
    {
     "name": "stdout",
     "output_type": "stream",
     "text": [
      "Epoch 580| Train Loss 266.835 | Precision 0.546 | Recall 0.508 | F1-score 0.526\n"
     ]
    },
    {
     "name": "stderr",
     "output_type": "stream",
     "text": [
      "Training...:  59%|█████▉    | 591/1000 [08:51<05:35,  1.22it/s]"
     ]
    },
    {
     "name": "stdout",
     "output_type": "stream",
     "text": [
      "Epoch 590| Train Loss 266.830 | Precision 0.574 | Recall 0.510 | F1-score 0.540\n"
     ]
    },
    {
     "name": "stderr",
     "output_type": "stream",
     "text": [
      "Training...:  60%|██████    | 601/1000 [09:00<06:00,  1.11it/s]"
     ]
    },
    {
     "name": "stdout",
     "output_type": "stream",
     "text": [
      "Epoch 600| Train Loss 266.823 | Precision 0.573 | Recall 0.509 | F1-score 0.539\n"
     ]
    },
    {
     "name": "stderr",
     "output_type": "stream",
     "text": [
      "Training...:  61%|██████    | 611/1000 [09:09<05:45,  1.13it/s]"
     ]
    },
    {
     "name": "stdout",
     "output_type": "stream",
     "text": [
      "Epoch 610| Train Loss 266.837 | Precision 0.550 | Recall 0.509 | F1-score 0.529\n"
     ]
    },
    {
     "name": "stderr",
     "output_type": "stream",
     "text": [
      "Training...:  62%|██████▏   | 621/1000 [09:18<05:48,  1.09it/s]"
     ]
    },
    {
     "name": "stdout",
     "output_type": "stream",
     "text": [
      "Epoch 620| Train Loss 266.833 | Precision 0.552 | Recall 0.508 | F1-score 0.529\n"
     ]
    },
    {
     "name": "stderr",
     "output_type": "stream",
     "text": [
      "Training...:  63%|██████▎   | 631/1000 [09:27<05:38,  1.09it/s]"
     ]
    },
    {
     "name": "stdout",
     "output_type": "stream",
     "text": [
      "Epoch 630| Train Loss 266.814 | Precision 0.598 | Recall 0.507 | F1-score 0.549\n"
     ]
    },
    {
     "name": "stderr",
     "output_type": "stream",
     "text": [
      "Training...:  64%|██████▍   | 641/1000 [09:36<05:13,  1.14it/s]"
     ]
    },
    {
     "name": "stdout",
     "output_type": "stream",
     "text": [
      "Epoch 640| Train Loss 266.840 | Precision 0.605 | Recall 0.507 | F1-score 0.552\n"
     ]
    },
    {
     "name": "stderr",
     "output_type": "stream",
     "text": [
      "Training...:  65%|██████▌   | 651/1000 [09:45<05:12,  1.12it/s]"
     ]
    },
    {
     "name": "stdout",
     "output_type": "stream",
     "text": [
      "Epoch 650| Train Loss 266.822 | Precision 0.570 | Recall 0.509 | F1-score 0.538\n"
     ]
    },
    {
     "name": "stderr",
     "output_type": "stream",
     "text": [
      "Training...:  66%|██████▌   | 661/1000 [09:54<05:08,  1.10it/s]"
     ]
    },
    {
     "name": "stdout",
     "output_type": "stream",
     "text": [
      "Epoch 660| Train Loss 266.821 | Precision 0.562 | Recall 0.509 | F1-score 0.534\n"
     ]
    },
    {
     "name": "stderr",
     "output_type": "stream",
     "text": [
      "Training...:  67%|██████▋   | 671/1000 [10:03<05:05,  1.08it/s]"
     ]
    },
    {
     "name": "stdout",
     "output_type": "stream",
     "text": [
      "Epoch 670| Train Loss 266.822 | Precision 0.556 | Recall 0.509 | F1-score 0.532\n"
     ]
    },
    {
     "name": "stderr",
     "output_type": "stream",
     "text": [
      "Training...:  68%|██████▊   | 681/1000 [10:12<04:52,  1.09it/s]"
     ]
    },
    {
     "name": "stdout",
     "output_type": "stream",
     "text": [
      "Epoch 680| Train Loss 266.822 | Precision 0.553 | Recall 0.508 | F1-score 0.530\n"
     ]
    },
    {
     "name": "stderr",
     "output_type": "stream",
     "text": [
      "Training...:  69%|██████▉   | 691/1000 [10:21<04:44,  1.09it/s]"
     ]
    },
    {
     "name": "stdout",
     "output_type": "stream",
     "text": [
      "Epoch 690| Train Loss 266.819 | Precision 0.534 | Recall 0.508 | F1-score 0.521\n"
     ]
    },
    {
     "name": "stderr",
     "output_type": "stream",
     "text": [
      "Training...:  70%|███████   | 701/1000 [10:30<04:35,  1.09it/s]"
     ]
    },
    {
     "name": "stdout",
     "output_type": "stream",
     "text": [
      "Epoch 700| Train Loss 266.823 | Precision 0.542 | Recall 0.509 | F1-score 0.525\n"
     ]
    },
    {
     "name": "stderr",
     "output_type": "stream",
     "text": [
      "Training...:  71%|███████   | 711/1000 [10:39<04:13,  1.14it/s]"
     ]
    },
    {
     "name": "stdout",
     "output_type": "stream",
     "text": [
      "Epoch 710| Train Loss 266.822 | Precision 0.544 | Recall 0.510 | F1-score 0.526\n"
     ]
    },
    {
     "name": "stderr",
     "output_type": "stream",
     "text": [
      "Training...:  72%|███████▏  | 721/1000 [10:48<04:20,  1.07it/s]"
     ]
    },
    {
     "name": "stdout",
     "output_type": "stream",
     "text": [
      "Epoch 720| Train Loss 266.824 | Precision 0.548 | Recall 0.509 | F1-score 0.528\n"
     ]
    },
    {
     "name": "stderr",
     "output_type": "stream",
     "text": [
      "Training...:  73%|███████▎  | 731/1000 [10:57<03:58,  1.13it/s]"
     ]
    },
    {
     "name": "stdout",
     "output_type": "stream",
     "text": [
      "Epoch 730| Train Loss 266.814 | Precision 0.554 | Recall 0.510 | F1-score 0.531\n"
     ]
    },
    {
     "name": "stderr",
     "output_type": "stream",
     "text": [
      "Training...:  74%|███████▍  | 741/1000 [11:05<03:47,  1.14it/s]"
     ]
    },
    {
     "name": "stdout",
     "output_type": "stream",
     "text": [
      "Epoch 740| Train Loss 266.817 | Precision 0.559 | Recall 0.509 | F1-score 0.533\n"
     ]
    },
    {
     "name": "stderr",
     "output_type": "stream",
     "text": [
      "Training...:  75%|███████▌  | 751/1000 [11:14<03:40,  1.13it/s]"
     ]
    },
    {
     "name": "stdout",
     "output_type": "stream",
     "text": [
      "Epoch 750| Train Loss 266.820 | Precision 0.571 | Recall 0.508 | F1-score 0.538\n"
     ]
    },
    {
     "name": "stderr",
     "output_type": "stream",
     "text": [
      "Training...:  76%|███████▌  | 761/1000 [11:23<03:36,  1.10it/s]"
     ]
    },
    {
     "name": "stdout",
     "output_type": "stream",
     "text": [
      "Epoch 760| Train Loss 266.829 | Precision 0.566 | Recall 0.508 | F1-score 0.536\n"
     ]
    },
    {
     "name": "stderr",
     "output_type": "stream",
     "text": [
      "Training...:  77%|███████▋  | 771/1000 [11:32<03:32,  1.08it/s]"
     ]
    },
    {
     "name": "stdout",
     "output_type": "stream",
     "text": [
      "Epoch 770| Train Loss 266.832 | Precision 0.537 | Recall 0.509 | F1-score 0.522\n"
     ]
    },
    {
     "name": "stderr",
     "output_type": "stream",
     "text": [
      "Training...:  78%|███████▊  | 781/1000 [11:42<03:27,  1.06it/s]"
     ]
    },
    {
     "name": "stdout",
     "output_type": "stream",
     "text": [
      "Epoch 780| Train Loss 266.818 | Precision 0.528 | Recall 0.510 | F1-score 0.519\n"
     ]
    },
    {
     "name": "stderr",
     "output_type": "stream",
     "text": [
      "Training...:  79%|███████▉  | 791/1000 [11:51<03:09,  1.10it/s]"
     ]
    },
    {
     "name": "stdout",
     "output_type": "stream",
     "text": [
      "Epoch 790| Train Loss 266.826 | Precision 0.536 | Recall 0.508 | F1-score 0.522\n"
     ]
    },
    {
     "name": "stderr",
     "output_type": "stream",
     "text": [
      "Training...:  80%|████████  | 801/1000 [12:00<03:00,  1.10it/s]"
     ]
    },
    {
     "name": "stdout",
     "output_type": "stream",
     "text": [
      "Epoch 800| Train Loss 266.827 | Precision 0.549 | Recall 0.508 | F1-score 0.528\n"
     ]
    },
    {
     "name": "stderr",
     "output_type": "stream",
     "text": [
      "Training...:  81%|████████  | 811/1000 [12:09<03:03,  1.03it/s]"
     ]
    },
    {
     "name": "stdout",
     "output_type": "stream",
     "text": [
      "Epoch 810| Train Loss 266.821 | Precision 0.549 | Recall 0.508 | F1-score 0.528\n"
     ]
    },
    {
     "name": "stderr",
     "output_type": "stream",
     "text": [
      "Training...:  82%|████████▏ | 821/1000 [12:18<02:47,  1.07it/s]"
     ]
    },
    {
     "name": "stdout",
     "output_type": "stream",
     "text": [
      "Epoch 820| Train Loss 266.828 | Precision 0.567 | Recall 0.509 | F1-score 0.537\n"
     ]
    },
    {
     "name": "stderr",
     "output_type": "stream",
     "text": [
      "Training...:  83%|████████▎ | 831/1000 [12:27<02:37,  1.07it/s]"
     ]
    },
    {
     "name": "stdout",
     "output_type": "stream",
     "text": [
      "Epoch 830| Train Loss 266.821 | Precision 0.536 | Recall 0.509 | F1-score 0.522\n"
     ]
    },
    {
     "name": "stderr",
     "output_type": "stream",
     "text": [
      "Training...:  84%|████████▍ | 841/1000 [12:36<02:28,  1.07it/s]"
     ]
    },
    {
     "name": "stdout",
     "output_type": "stream",
     "text": [
      "Epoch 840| Train Loss 266.825 | Precision 0.529 | Recall 0.510 | F1-score 0.519\n"
     ]
    },
    {
     "name": "stderr",
     "output_type": "stream",
     "text": [
      "Training...:  85%|████████▌ | 851/1000 [12:46<02:20,  1.06it/s]"
     ]
    },
    {
     "name": "stdout",
     "output_type": "stream",
     "text": [
      "Epoch 850| Train Loss 266.834 | Precision 0.530 | Recall 0.509 | F1-score 0.520\n"
     ]
    },
    {
     "name": "stderr",
     "output_type": "stream",
     "text": [
      "Training...:  86%|████████▌ | 861/1000 [12:55<02:08,  1.09it/s]"
     ]
    },
    {
     "name": "stdout",
     "output_type": "stream",
     "text": [
      "Epoch 860| Train Loss 266.821 | Precision 0.543 | Recall 0.510 | F1-score 0.526\n"
     ]
    },
    {
     "name": "stderr",
     "output_type": "stream",
     "text": [
      "Training...:  87%|████████▋ | 871/1000 [13:04<01:57,  1.10it/s]"
     ]
    },
    {
     "name": "stdout",
     "output_type": "stream",
     "text": [
      "Epoch 870| Train Loss 266.815 | Precision 0.543 | Recall 0.508 | F1-score 0.525\n"
     ]
    },
    {
     "name": "stderr",
     "output_type": "stream",
     "text": [
      "Training...:  88%|████████▊ | 881/1000 [13:12<01:46,  1.12it/s]"
     ]
    },
    {
     "name": "stdout",
     "output_type": "stream",
     "text": [
      "Epoch 880| Train Loss 266.828 | Precision 0.531 | Recall 0.509 | F1-score 0.520\n"
     ]
    },
    {
     "name": "stderr",
     "output_type": "stream",
     "text": [
      "Training...:  89%|████████▉ | 891/1000 [13:22<01:39,  1.10it/s]"
     ]
    },
    {
     "name": "stdout",
     "output_type": "stream",
     "text": [
      "Epoch 890| Train Loss 266.823 | Precision 0.532 | Recall 0.509 | F1-score 0.520\n"
     ]
    },
    {
     "name": "stderr",
     "output_type": "stream",
     "text": [
      "Training...:  90%|█████████ | 901/1000 [13:31<01:30,  1.09it/s]"
     ]
    },
    {
     "name": "stdout",
     "output_type": "stream",
     "text": [
      "Epoch 900| Train Loss 266.832 | Precision 0.516 | Recall 0.510 | F1-score 0.513\n"
     ]
    },
    {
     "name": "stderr",
     "output_type": "stream",
     "text": [
      "Training...:  91%|█████████ | 911/1000 [13:40<01:21,  1.10it/s]"
     ]
    },
    {
     "name": "stdout",
     "output_type": "stream",
     "text": [
      "Epoch 910| Train Loss 266.823 | Precision 0.538 | Recall 0.508 | F1-score 0.522\n"
     ]
    },
    {
     "name": "stderr",
     "output_type": "stream",
     "text": [
      "Training...:  92%|█████████▏| 921/1000 [13:48<01:05,  1.21it/s]"
     ]
    },
    {
     "name": "stdout",
     "output_type": "stream",
     "text": [
      "Epoch 920| Train Loss 266.821 | Precision 0.548 | Recall 0.509 | F1-score 0.528\n"
     ]
    },
    {
     "name": "stderr",
     "output_type": "stream",
     "text": [
      "Training...:  93%|█████████▎| 931/1000 [13:57<00:59,  1.17it/s]"
     ]
    },
    {
     "name": "stdout",
     "output_type": "stream",
     "text": [
      "Epoch 930| Train Loss 266.843 | Precision 0.539 | Recall 0.509 | F1-score 0.523\n"
     ]
    },
    {
     "name": "stderr",
     "output_type": "stream",
     "text": [
      "Training...:  94%|█████████▍| 941/1000 [14:05<00:48,  1.23it/s]"
     ]
    },
    {
     "name": "stdout",
     "output_type": "stream",
     "text": [
      "Epoch 940| Train Loss 266.821 | Precision 0.525 | Recall 0.509 | F1-score 0.517\n"
     ]
    },
    {
     "name": "stderr",
     "output_type": "stream",
     "text": [
      "Training...:  95%|█████████▌| 951/1000 [14:14<00:44,  1.11it/s]"
     ]
    },
    {
     "name": "stdout",
     "output_type": "stream",
     "text": [
      "Epoch 950| Train Loss 266.826 | Precision 0.561 | Recall 0.508 | F1-score 0.533\n"
     ]
    },
    {
     "name": "stderr",
     "output_type": "stream",
     "text": [
      "Training...:  96%|█████████▌| 961/1000 [14:23<00:35,  1.09it/s]"
     ]
    },
    {
     "name": "stdout",
     "output_type": "stream",
     "text": [
      "Epoch 960| Train Loss 266.824 | Precision 0.550 | Recall 0.508 | F1-score 0.528\n"
     ]
    },
    {
     "name": "stderr",
     "output_type": "stream",
     "text": [
      "Training...:  97%|█████████▋| 971/1000 [14:32<00:26,  1.08it/s]"
     ]
    },
    {
     "name": "stdout",
     "output_type": "stream",
     "text": [
      "Epoch 970| Train Loss 266.816 | Precision 0.551 | Recall 0.509 | F1-score 0.529\n"
     ]
    },
    {
     "name": "stderr",
     "output_type": "stream",
     "text": [
      "Training...:  98%|█████████▊| 981/1000 [14:41<00:17,  1.09it/s]"
     ]
    },
    {
     "name": "stdout",
     "output_type": "stream",
     "text": [
      "Epoch 980| Train Loss 266.826 | Precision 0.553 | Recall 0.510 | F1-score 0.531\n"
     ]
    },
    {
     "name": "stderr",
     "output_type": "stream",
     "text": [
      "Training...:  99%|█████████▉| 991/1000 [14:50<00:08,  1.08it/s]"
     ]
    },
    {
     "name": "stdout",
     "output_type": "stream",
     "text": [
      "Epoch 990| Train Loss 266.830 | Precision 0.558 | Recall 0.507 | F1-score 0.531\n"
     ]
    },
    {
     "name": "stderr",
     "output_type": "stream",
     "text": [
      "Training...: 100%|██████████| 1000/1000 [14:58<00:00,  1.11it/s]\n"
     ]
    },
    {
     "data": {
      "text/plain": [
       "NetworkEstimator(\n",
       "  (fc1): Linear(in_features=3, out_features=256, bias=True)\n",
       "  (fc2): Linear(in_features=256, out_features=128, bias=True)\n",
       "  (dropout): Dropout(p=0.3, inplace=False)\n",
       "  (fc3): Linear(in_features=128, out_features=2, bias=True)\n",
       ")"
      ]
     },
     "execution_count": 420,
     "metadata": {},
     "output_type": "execute_result"
    }
   ],
   "source": [
    "##training loop\n",
    "from tqdm import tqdm\n",
    "from sklearn.metrics import precision_recall_fscore_support\n",
    "\n",
    "N_EPOCHS=1000\n",
    "torch.cuda.empty_cache()\n",
    "model.train()\n",
    "for epoch in tqdm(range(N_EPOCHS),desc=\"Training...\"):\n",
    "    actions_pred=[]\n",
    "    actions_true=[]\n",
    "    losses=[]\n",
    "    epoch_loss=0\n",
    "    for step,(states_batch,actions) in enumerate(train_dl,1):\n",
    "        model.zero_grad()\n",
    "        scores=model(states_batch.to(DEVICE))\n",
    "        loss=criterion(scores,actions.to(DEVICE))\n",
    "        epoch_loss+=loss.item()\n",
    "        loss.backward()\n",
    "        optimizer.step()\n",
    "        torch.nn.utils.clip_grad_norm_(model.parameters(), 1.0)\n",
    "        actions_true.extend(torch.argmax(actions,1).detach().cpu().numpy().tolist())\n",
    "        predictions=torch.argmax(scores,1).detach().cpu().numpy().tolist()\n",
    "        actions_pred.extend(predictions)\n",
    "        \n",
    "    ## on epoch end\n",
    "    losses.append(epoch_loss/X.shape[0])\n",
    "    if epoch%10==0:\n",
    "        precision,recall,f1,_=precision_recall_fscore_support(actions_pred,actions_true,average='binary')\n",
    "        print(f\"Epoch {epoch}| Train Loss {epoch_loss:.3f} | Precision {precision:.3f} | Recall {recall:.3f} | F1-score {f1:.3f}\")\n",
    "model.eval()"
   ]
  },
  {
   "cell_type": "markdown",
   "id": "1b109a47-96fc-42a7-a118-4352f559b9d4",
   "metadata": {},
   "source": [
    "## Now lets play using the model"
   ]
  },
  {
   "cell_type": "code",
   "execution_count": 421,
   "id": "90f03f70-15da-4fd3-b154-86a80ae93ab8",
   "metadata": {},
   "outputs": [
    {
     "data": {
      "text/plain": [
       "NetworkEstimator(\n",
       "  (fc1): Linear(in_features=3, out_features=256, bias=True)\n",
       "  (fc2): Linear(in_features=256, out_features=128, bias=True)\n",
       "  (dropout): Dropout(p=0.3, inplace=False)\n",
       "  (fc3): Linear(in_features=128, out_features=2, bias=True)\n",
       ")"
      ]
     },
     "execution_count": 421,
     "metadata": {},
     "output_type": "execute_result"
    }
   ],
   "source": [
    "model.to(\"cpu\")"
   ]
  },
  {
   "cell_type": "code",
   "execution_count": 422,
   "id": "5395536e-3769-429f-8f3c-b9f9f2056ef4",
   "metadata": {},
   "outputs": [],
   "source": [
    "import numpy as np\n",
    "def play_pole_mlp(env_game,n_games,n_games_eval=100):\n",
    "    scores=[]\n",
    "    avg_scores=[]\n",
    "    eps_history=[]\n",
    "    actions_hist=torch.randint(0,2,(3,)).numpy().tolist()\n",
    "    for game in range(n_games):\n",
    "        state=env_game.reset()\n",
    "        game_over=False\n",
    "        score=0\n",
    "        while not game_over:\n",
    "            with torch.no_grad():\n",
    "                action=model(torch.FloatTensor(actions_hist))\n",
    "                action=torch.argmax(action)\n",
    "            new_state, reward, game_over, info = env_game.step(action.item())\n",
    "            score+=reward\n",
    "            state=new_state\n",
    "            actions_hist[-1]=action\n",
    "            \n",
    "            \n",
    "        scores.append(score)\n",
    "        \n",
    "        if game%n_games_eval==0:\n",
    "            avg_score=np.mean(scores[-n_games_eval:])\n",
    "            avg_scores.append(avg_score)\n",
    "            print(f\"Episode {game} | Score: {scores[-1]:.2f} Avg Score {avg_score:.2f}\")\n",
    "    \n",
    "    return avg_scores\n",
    "\n"
   ]
  },
  {
   "cell_type": "code",
   "execution_count": 423,
   "id": "e9591efd-5648-4c11-8d53-0c3772560b1b",
   "metadata": {},
   "outputs": [
    {
     "name": "stdout",
     "output_type": "stream",
     "text": [
      "Episode 0 | Score: 48.00 Avg Score 48.00\n",
      "Episode 100 | Score: 23.00 Avg Score 35.82\n",
      "Episode 200 | Score: 70.00 Avg Score 41.05\n",
      "Episode 300 | Score: 23.00 Avg Score 35.21\n",
      "Episode 400 | Score: 49.00 Avg Score 37.46\n",
      "Episode 500 | Score: 26.00 Avg Score 39.53\n",
      "Episode 600 | Score: 25.00 Avg Score 38.84\n",
      "Episode 700 | Score: 28.00 Avg Score 36.45\n",
      "Episode 800 | Score: 25.00 Avg Score 36.17\n",
      "Episode 900 | Score: 23.00 Avg Score 37.10\n",
      "Episode 1000 | Score: 24.00 Avg Score 38.51\n",
      "Episode 1100 | Score: 42.00 Avg Score 38.14\n",
      "Episode 1200 | Score: 48.00 Avg Score 38.13\n",
      "Episode 1300 | Score: 26.00 Avg Score 33.94\n",
      "Episode 1400 | Score: 21.00 Avg Score 37.80\n",
      "Episode 1500 | Score: 34.00 Avg Score 36.62\n",
      "Episode 1600 | Score: 38.00 Avg Score 37.54\n",
      "Episode 1700 | Score: 22.00 Avg Score 36.92\n",
      "Episode 1800 | Score: 23.00 Avg Score 37.17\n",
      "Episode 1900 | Score: 28.00 Avg Score 37.76\n",
      "Episode 2000 | Score: 34.00 Avg Score 38.87\n",
      "Episode 2100 | Score: 26.00 Avg Score 37.41\n",
      "Episode 2200 | Score: 37.00 Avg Score 38.55\n",
      "Episode 2300 | Score: 92.00 Avg Score 37.08\n",
      "Episode 2400 | Score: 26.00 Avg Score 37.16\n",
      "Episode 2500 | Score: 26.00 Avg Score 37.53\n",
      "Episode 2600 | Score: 54.00 Avg Score 36.92\n",
      "Episode 2700 | Score: 51.00 Avg Score 38.06\n",
      "Episode 2800 | Score: 35.00 Avg Score 37.61\n",
      "Episode 2900 | Score: 26.00 Avg Score 38.89\n",
      "Episode 3000 | Score: 36.00 Avg Score 39.49\n",
      "Episode 3100 | Score: 48.00 Avg Score 40.98\n",
      "Episode 3200 | Score: 26.00 Avg Score 35.88\n",
      "Episode 3300 | Score: 24.00 Avg Score 37.40\n",
      "Episode 3400 | Score: 29.00 Avg Score 33.65\n",
      "Episode 3500 | Score: 56.00 Avg Score 35.89\n",
      "Episode 3600 | Score: 21.00 Avg Score 35.94\n",
      "Episode 3700 | Score: 31.00 Avg Score 36.53\n",
      "Episode 3800 | Score: 66.00 Avg Score 38.30\n",
      "Episode 3900 | Score: 25.00 Avg Score 36.17\n",
      "Episode 4000 | Score: 21.00 Avg Score 37.01\n",
      "Episode 4100 | Score: 31.00 Avg Score 37.48\n",
      "Episode 4200 | Score: 25.00 Avg Score 37.02\n",
      "Episode 4300 | Score: 22.00 Avg Score 35.52\n",
      "Episode 4400 | Score: 30.00 Avg Score 35.28\n",
      "Episode 4500 | Score: 26.00 Avg Score 36.59\n",
      "Episode 4600 | Score: 53.00 Avg Score 38.01\n",
      "Episode 4700 | Score: 27.00 Avg Score 37.30\n",
      "Episode 4800 | Score: 36.00 Avg Score 37.51\n",
      "Episode 4900 | Score: 44.00 Avg Score 38.44\n",
      "Episode 5000 | Score: 23.00 Avg Score 35.47\n",
      "Episode 5100 | Score: 25.00 Avg Score 37.19\n",
      "Episode 5200 | Score: 48.00 Avg Score 37.64\n",
      "Episode 5300 | Score: 65.00 Avg Score 36.06\n",
      "Episode 5400 | Score: 31.00 Avg Score 36.22\n",
      "Episode 5500 | Score: 23.00 Avg Score 38.77\n",
      "Episode 5600 | Score: 38.00 Avg Score 36.17\n",
      "Episode 5700 | Score: 38.00 Avg Score 34.50\n",
      "Episode 5800 | Score: 37.00 Avg Score 39.66\n",
      "Episode 5900 | Score: 53.00 Avg Score 37.93\n",
      "Episode 6000 | Score: 29.00 Avg Score 37.93\n",
      "Episode 6100 | Score: 53.00 Avg Score 36.15\n",
      "Episode 6200 | Score: 37.00 Avg Score 35.24\n",
      "Episode 6300 | Score: 31.00 Avg Score 36.77\n",
      "Episode 6400 | Score: 45.00 Avg Score 37.40\n",
      "Episode 6500 | Score: 26.00 Avg Score 37.09\n",
      "Episode 6600 | Score: 31.00 Avg Score 37.97\n",
      "Episode 6700 | Score: 22.00 Avg Score 37.04\n",
      "Episode 6800 | Score: 26.00 Avg Score 40.45\n",
      "Episode 6900 | Score: 71.00 Avg Score 35.63\n",
      "Episode 7000 | Score: 49.00 Avg Score 35.66\n",
      "Episode 7100 | Score: 27.00 Avg Score 35.56\n",
      "Episode 7200 | Score: 57.00 Avg Score 36.86\n",
      "Episode 7300 | Score: 27.00 Avg Score 37.56\n",
      "Episode 7400 | Score: 26.00 Avg Score 36.92\n",
      "Episode 7500 | Score: 33.00 Avg Score 37.98\n",
      "Episode 7600 | Score: 32.00 Avg Score 35.92\n",
      "Episode 7700 | Score: 43.00 Avg Score 35.71\n",
      "Episode 7800 | Score: 22.00 Avg Score 37.33\n",
      "Episode 7900 | Score: 76.00 Avg Score 37.33\n",
      "Episode 8000 | Score: 40.00 Avg Score 37.76\n",
      "Episode 8100 | Score: 27.00 Avg Score 38.00\n",
      "Episode 8200 | Score: 23.00 Avg Score 37.28\n",
      "Episode 8300 | Score: 37.00 Avg Score 39.82\n",
      "Episode 8400 | Score: 73.00 Avg Score 38.06\n",
      "Episode 8500 | Score: 47.00 Avg Score 37.32\n",
      "Episode 8600 | Score: 24.00 Avg Score 36.32\n",
      "Episode 8700 | Score: 97.00 Avg Score 37.21\n",
      "Episode 8800 | Score: 41.00 Avg Score 36.38\n",
      "Episode 8900 | Score: 47.00 Avg Score 35.63\n",
      "Episode 9000 | Score: 26.00 Avg Score 39.84\n",
      "Episode 9100 | Score: 32.00 Avg Score 40.23\n",
      "Episode 9200 | Score: 55.00 Avg Score 38.53\n",
      "Episode 9300 | Score: 28.00 Avg Score 40.26\n",
      "Episode 9400 | Score: 28.00 Avg Score 37.72\n",
      "Episode 9500 | Score: 100.00 Avg Score 39.23\n",
      "Episode 9600 | Score: 22.00 Avg Score 34.24\n",
      "Episode 9700 | Score: 24.00 Avg Score 39.03\n",
      "Episode 9800 | Score: 94.00 Avg Score 36.33\n",
      "Episode 9900 | Score: 22.00 Avg Score 38.16\n"
     ]
    }
   ],
   "source": [
    "N_GAMES=10000\n",
    "scores_game=play_pole_mlp(env,N_GAMES,100)"
   ]
  },
  {
   "cell_type": "code",
   "execution_count": 427,
   "id": "c688b853-86c0-4cf6-8272-11f587cbcca4",
   "metadata": {},
   "outputs": [
    {
     "data": {
      "image/png": "[encoded data removed]",
      "text/plain": [
       "<Figure size 576x576 with 1 Axes>"
      ]
     },
     "metadata": {
      "needs_background": "light"
     },
     "output_type": "display_data"
    }
   ],
   "source": [
    "## See results, much better than the previous approach, however the definitive approach would be using CNN\n",
    "\n",
    "import seaborn as sns\n",
    "import matplotlib.pyplot as plt\n",
    "\n",
    "\n",
    "f,ax=plt.subplots(figsize=(8,8))\n",
    "ax=sns.lineplot(x=np.arange(len(scores_game)),y=scores_game,color=\"darkred\")\n",
    "ax.set_title(\"Cart-Pole scores using MLP net as agent\");"
   ]
  }
 ],
 "metadata": {
  "kernelspec": {
   "display_name": "Python 3",
   "language": "python",
   "name": "python3"
  },
  "language_info": {
   "codemirror_mode": {
    "name": "ipython",
    "version": 3
   },
   "file_extension": ".py",
   "mimetype": "text/x-python",
   "name": "python",
   "nbconvert_exporter": "python",
   "pygments_lexer": "ipython3",
   "version": "3.8.5"
  }
 },
 "nbformat": 4,
 "nbformat_minor": 5
}
